{
 "cells": [
  {
   "cell_type": "markdown",
   "metadata": {},
   "source": [
    "#### 1. Reverse a String"
   ]
  },
  {
   "cell_type": "code",
   "execution_count": 1,
   "metadata": {},
   "outputs": [
    {
     "name": "stdout",
     "output_type": "stream",
     "text": [
      "hsedalgnab\n"
     ]
    }
   ],
   "source": [
    "a = \"bangladesh\"\n",
    "rev_a = a[::-1]\n",
    "print(rev_a)"
   ]
  },
  {
   "cell_type": "markdown",
   "metadata": {},
   "source": [
    "#### 2. Reverse a list "
   ]
  },
  {
   "cell_type": "code",
   "execution_count": 2,
   "metadata": {},
   "outputs": [
    {
     "name": "stdout",
     "output_type": "stream",
     "text": [
      "[4, 3, 2, 1]\n"
     ]
    }
   ],
   "source": [
    "l = [1, 2, 3, 4]\n",
    "rev_l = l[::-1]\n",
    "print(rev_l)"
   ]
  },
  {
   "cell_type": "markdown",
   "metadata": {},
   "source": [
    "#### 3. Swap values between two variables "
   ]
  },
  {
   "cell_type": "code",
   "execution_count": 4,
   "metadata": {},
   "outputs": [
    {
     "name": "stdout",
     "output_type": "stream",
     "text": [
      "a = 20, b = 10\n"
     ]
    }
   ],
   "source": [
    "a = 10; b = 20\n",
    "a, b = b, a\n",
    "print(f\"a = {a}, b = {b}\")"
   ]
  },
  {
   "cell_type": "markdown",
   "metadata": {},
   "source": [
    "#### 4. Split a multiline string into a list of lines"
   ]
  },
  {
   "cell_type": "code",
   "execution_count": 7,
   "metadata": {},
   "outputs": [
    {
     "name": "stdout",
     "output_type": "stream",
     "text": [
      "['Python 3.0 ', ' is way better than the ', ' python 2.0']\n"
     ]
    }
   ],
   "source": [
    "def split_string(s):\n",
    "    return s.split('\\n')\n",
    "\n",
    "string = \"Python 3.0 \\n is way better than the \\n python 2.0\"\n",
    "split_list = split_string(string)\n",
    "print(split_list)"
   ]
  },
  {
   "cell_type": "code",
   "execution_count": 8,
   "metadata": {},
   "outputs": [
    {
     "name": "stdout",
     "output_type": "stream",
     "text": [
      "Python 3.0 \n",
      " is way better than the \n",
      " python 2.0\n"
     ]
    }
   ],
   "source": [
    "for i in split_list:\n",
    "    print(i)"
   ]
  },
  {
   "cell_type": "markdown",
   "metadata": {},
   "source": [
    "#### 5. Find memory used by an object\n",
    "The sys. getsizeof(object[,default]) function returns the size of the object in `bytes`"
   ]
  },
  {
   "cell_type": "code",
   "execution_count": 9,
   "metadata": {},
   "outputs": [
    {
     "name": "stdout",
     "output_type": "stream",
     "text": [
      "96\n"
     ]
    }
   ],
   "source": [
    "import sys\n",
    "l = [1, 2, 3, 4]\n",
    "print(sys.getsizeof(l))"
   ]
  },
  {
   "cell_type": "markdown",
   "metadata": {},
   "source": [
    "#### 6. Check if a string is a palindrome\n"
   ]
  },
  {
   "cell_type": "code",
   "execution_count": 12,
   "metadata": {},
   "outputs": [
    {
     "name": "stdout",
     "output_type": "stream",
     "text": [
      "False\n"
     ]
    }
   ],
   "source": [
    "def is_palindrome(s):\n",
    "    return s == s[::-1]\n",
    "\n",
    "s_input = \"python\"\n",
    "print(is_palindrome(s_input))"
   ]
  },
  {
   "cell_type": "code",
   "execution_count": 13,
   "metadata": {},
   "outputs": [
    {
     "name": "stdout",
     "output_type": "stream",
     "text": [
      "True\n"
     ]
    }
   ],
   "source": [
    "s_input = \"level\"\n",
    "print(is_palindrome(s_input))"
   ]
  },
  {
   "cell_type": "markdown",
   "metadata": {},
   "source": [
    "#### 7. Combine a list of strings into a single string"
   ]
  },
  {
   "cell_type": "code",
   "execution_count": 20,
   "metadata": {},
   "outputs": [
    {
     "name": "stdout",
     "output_type": "stream",
     "text": [
      "Orange Banana Mango\n"
     ]
    }
   ],
   "source": [
    "list_of_string = [\n",
    "    \"Orange\",\n",
    "    \"Banana\",\n",
    "    \"Mango\"\n",
    "]\n",
    "\n",
    "def combine_string_by_space(s):\n",
    "    return ' '.join(s)\n",
    "\n",
    "l = combine_string_by_space(list_of_string)\n",
    "print(l)"
   ]
  },
  {
   "cell_type": "code",
   "execution_count": 21,
   "metadata": {},
   "outputs": [
    {
     "name": "stdout",
     "output_type": "stream",
     "text": [
      "Orange, Banana, Mango\n"
     ]
    }
   ],
   "source": [
    "def combine_string_by_comma(s):\n",
    "    return ', '.join(s)\n",
    "\n",
    "l = combine_string_by_comma(list_of_string)\n",
    "print(l)"
   ]
  },
  {
   "cell_type": "markdown",
   "metadata": {},
   "source": [
    "#### 8. Find elements that exist in either of the two lists"
   ]
  },
  {
   "cell_type": "code",
   "execution_count": 33,
   "metadata": {},
   "outputs": [
    {
     "name": "stdout",
     "output_type": "stream",
     "text": [
      "[1, 2, 3, 4, 5, 6, 7, 8, 9, 10]\n"
     ]
    }
   ],
   "source": [
    "def find_union_elements(l1, l2):\n",
    "    return list(set(l1 + l2))\n",
    "\n",
    "if __name__ == \"__main__\":\n",
    "    list_1 = [2, 4, 6, 8, 10, 2, 2]\n",
    "    list_2 = [1, 3, 5, 7, 9, 9]\n",
    "    output = find_union_elements(list_1, list_2)\n",
    "    print(output)"
   ]
  },
  {
   "cell_type": "markdown",
   "metadata": {},
   "source": [
    "#### Find all the unique elements present in a given list"
   ]
  },
  {
   "cell_type": "code",
   "execution_count": 32,
   "metadata": {},
   "outputs": [
    {
     "name": "stdout",
     "output_type": "stream",
     "text": [
      "[2, 4, 6, 8, 10]\n"
     ]
    }
   ],
   "source": [
    "def unique_elements(e):\n",
    "    return list(set(e))\n",
    "\n",
    "if __name__ == \"__main__\":\n",
    "    e_input = [2, 4, 6, 8, 10, 2, 2, 4, 6]\n",
    "    output = unique_elements(e_input)\n",
    "    print(output)"
   ]
  },
  {
   "cell_type": "code",
   "execution_count": null,
   "metadata": {},
   "outputs": [],
   "source": []
  }
 ],
 "metadata": {
  "kernelspec": {
   "display_name": "Python 3.7.4 64-bit ('base': conda)",
   "language": "python",
   "name": "python37464bitbaseconda8e2fb0003e5f43d6a998b50438083679"
  },
  "language_info": {
   "codemirror_mode": {
    "name": "ipython",
    "version": 3
   },
   "file_extension": ".py",
   "mimetype": "text/x-python",
   "name": "python",
   "nbconvert_exporter": "python",
   "pygments_lexer": "ipython3",
   "version": "3.7.4"
  }
 },
 "nbformat": 4,
 "nbformat_minor": 2
}
