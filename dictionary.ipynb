{
 "cells": [
  {
   "cell_type": "markdown",
   "metadata": {},
   "source": [
    "#### # Write a Python program to sort (ascending and descending) a dictionary by value.\n",
    "```\n",
    "Original dictionary :  {1: 2, 3: 4, 4: 3, 2: 1, 0: 0}                                                         \n",
    "Dictionary in ascending order by value :  [(0, 0), (1, 2), (2, 1), (3, 4), (4, 3)]                            \n",
    "Dictionary in descending order by value :  [(4, 3), (3, 4), (2, 1), (1, 2), (0, 0)]\n",
    "```"
   ]
  },
  {
   "cell_type": "code",
   "execution_count": 9,
   "metadata": {},
   "outputs": [
    {
     "name": "stdout",
     "output_type": "stream",
     "text": [
      "Original Dictionary:  {1: 2, 3: 4, 4: 3, 2: 1, 0: 0}\n",
      "Ascending order:  [(0, 0), (1, 2), (2, 1), (3, 4), (4, 3)]\n",
      "Descending Order:  [(4, 3), (3, 4), (2, 1), (1, 2), (0, 0)]\n"
     ]
    }
   ],
   "source": [
    "import operator\n",
    "\n",
    "dictionary = {1: 2, 3: 4, 4: 3, 2: 1, 0: 0}\n",
    "print(\"Original Dictionary: \", dictionary)\n",
    "ascending_order = sorted(dictionary.items(), key=operator.itemgetter(0))\n",
    "print(\"Ascending order: \", ascending_order)\n",
    "descending_order = sorted(dictionary.items(), key=operator.itemgetter(0), reverse=True)\n",
    "print(\"Descending Order: \", descending_order)"
   ]
  },
  {
   "cell_type": "code",
   "execution_count": null,
   "metadata": {},
   "outputs": [],
   "source": []
  }
 ],
 "metadata": {
  "kernelspec": {
   "display_name": "Python 3",
   "language": "python",
   "name": "python3"
  },
  "language_info": {
   "codemirror_mode": {
    "name": "ipython",
    "version": 3
   },
   "file_extension": ".py",
   "mimetype": "text/x-python",
   "name": "python",
   "nbconvert_exporter": "python",
   "pygments_lexer": "ipython3",
   "version": "3.6.8"
  },
  "toc": {
   "base_numbering": 1,
   "nav_menu": {},
   "number_sections": true,
   "sideBar": true,
   "skip_h1_title": false,
   "title_cell": "Table of Contents",
   "title_sidebar": "Contents",
   "toc_cell": false,
   "toc_position": {},
   "toc_section_display": true,
   "toc_window_display": false
  }
 },
 "nbformat": 4,
 "nbformat_minor": 2
}
