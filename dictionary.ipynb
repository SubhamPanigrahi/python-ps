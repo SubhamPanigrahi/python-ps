{
 "cells": [
  {
   "cell_type": "markdown",
   "metadata": {},
   "source": [
    "#### # Write a Python program to sort (ascending and descending) a dictionary by value.\n",
    "```\n",
    "Original dictionary :  {1: 2, 3: 4, 4: 3, 2: 1, 0: 0}                                                         \n",
    "Dictionary in ascending order by value :  [(0, 0), (1, 2), (2, 1), (3, 4), (4, 3)]                            \n",
    "Dictionary in descending order by value :  [(4, 3), (3, 4), (2, 1), (1, 2), (0, 0)]\n",
    "```"
   ]
  },
  {
   "cell_type": "code",
   "execution_count": 9,
   "metadata": {},
   "outputs": [
    {
     "name": "stdout",
     "output_type": "stream",
     "text": [
      "Original Dictionary:  {1: 2, 3: 4, 4: 3, 2: 1, 0: 0}\n",
      "Ascending order:  [(0, 0), (1, 2), (2, 1), (3, 4), (4, 3)]\n",
      "Descending Order:  [(4, 3), (3, 4), (2, 1), (1, 2), (0, 0)]\n"
     ]
    }
   ],
   "source": [
    "import operator\n",
    "\n",
    "dictionary = {1: 2, 3: 4, 4: 3, 2: 1, 0: 0}\n",
    "print(\"Original Dictionary: \", dictionary)\n",
    "ascending_order = sorted(dictionary.items(), key=operator.itemgetter(0))\n",
    "print(\"Ascending order: \", ascending_order)\n",
    "descending_order = sorted(dictionary.items(), key=operator.itemgetter(0), reverse=True)\n",
    "print(\"Descending Order: \", descending_order)"
   ]
  },
  {
   "cell_type": "markdown",
   "metadata": {},
   "source": [
    "#### Check if a given key already exists in a dictionary\n",
    "```\n",
    "input\n",
    "d = {1: 10, 2: 20, 3: 30, 4: 40, 5: 50, 6: 60}\n",
    "is_key_present(5)\n",
    "is_key_present(9)\n",
    "output\n",
    "Key is present in the dictionary                                                                              \n",
    "Key is not present in the dictionary\n",
    "```"
   ]
  },
  {
   "cell_type": "code",
   "execution_count": 13,
   "metadata": {},
   "outputs": [
    {
     "name": "stdout",
     "output_type": "stream",
     "text": [
      "Key is not present in the dictionary\n",
      "Key is present in the dictionary.\n"
     ]
    }
   ],
   "source": [
    "d = {1: 10, 2: 20, 3: 30, 4: 40, 5: 50, 6: 60}\n",
    "\n",
    "def is_key_present(key):\n",
    "    if key in d:\n",
    "        print(\"Key is present in the dictionary.\")\n",
    "    else:\n",
    "        print(\"Key is not present in the dictionary\")\n",
    "        \n",
    "is_key_present(20)\n",
    "is_key_present(2)"
   ]
  },
  {
   "cell_type": "markdown",
   "metadata": {},
   "source": [
    "#### Write a Python script to concatenate following dictionaries to create a new one\n",
    "```\n",
    "Input\n",
    "dic1={1:10, 2:20}\n",
    "dic2={3:30, 4:40}\n",
    "dic3={5:50,6:60}\n",
    "Output\n",
    "{1: 10, 2: 20, 3: 30, 4: 40, 5: 50, 6: 60}\n",
    "```"
   ]
  },
  {
   "cell_type": "code",
   "execution_count": 6,
   "metadata": {},
   "outputs": [
    {
     "name": "stdout",
     "output_type": "stream",
     "text": [
      "{1: 10, 2: 20, 3: 30, 4: 40, 5: 50, 6: 60}\n"
     ]
    }
   ],
   "source": [
    "dic1={1:10, 2:20}\n",
    "dic2={3:30, 4:40}\n",
    "dic3={5:50,6:60}\n",
    "new_dic = {}\n",
    "\n",
    "for d in (dic1, dic2, dic3): \n",
    "    new_dic.update(d)\n",
    "    \n",
    "print(new_dic)\n",
    "        "
   ]
  },
  {
   "cell_type": "code",
   "execution_count": null,
   "metadata": {},
   "outputs": [],
   "source": []
  }
 ],
 "metadata": {
  "kernelspec": {
   "display_name": "Python 3",
   "language": "python",
   "name": "python3"
  },
  "language_info": {
   "codemirror_mode": {
    "name": "ipython",
    "version": 3
   },
   "file_extension": ".py",
   "mimetype": "text/x-python",
   "name": "python",
   "nbconvert_exporter": "python",
   "pygments_lexer": "ipython3",
   "version": "3.6.8"
  },
  "toc": {
   "base_numbering": 1,
   "nav_menu": {},
   "number_sections": true,
   "sideBar": true,
   "skip_h1_title": false,
   "title_cell": "Table of Contents",
   "title_sidebar": "Contents",
   "toc_cell": false,
   "toc_position": {},
   "toc_section_display": true,
   "toc_window_display": false
  }
 },
 "nbformat": 4,
 "nbformat_minor": 2
}
