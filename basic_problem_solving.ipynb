{
 "cells": [
  {
   "cell_type": "markdown",
   "metadata": {},
   "source": [
    "####  Write a Python program that accepts an integer (n) and computes the value of n+nn+nnn. Go to the editor, Sample value of n is 5 . Expected Result : 615 \n",
    " (5+55+555 = 615)"
   ]
  },
  {
   "cell_type": "code",
   "execution_count": 8,
   "metadata": {},
   "outputs": [
    {
     "name": "stdout",
     "output_type": "stream",
     "text": [
      "Input an integer value\n",
      "5\n"
     ]
    }
   ],
   "source": [
    "n = int(input('Input an integer value\\n'))\n"
   ]
  },
  {
   "cell_type": "code",
   "execution_count": 11,
   "metadata": {},
   "outputs": [
    {
     "name": "stdout",
     "output_type": "stream",
     "text": [
      "615\n"
     ]
    }
   ],
   "source": [
    "n1 = int(\"%s\" % n)              # 5\n",
    "n2 = int(\"%s%s\" % (n,n))        # 55\n",
    "n3 = int(\"%s%s%s\" % (n,n,n))    # 555\n",
    "output = n1+n2+n3               # 5+55+555 \n",
    "print(output)"
   ]
  },
  {
   "cell_type": "markdown",
   "metadata": {},
   "source": [
    "#### Create a program that asks the user to enter their name and their age.  Print out a message addressed to them that tells them the year that they will turn 100 years old."
   ]
  },
  {
   "cell_type": "code",
   "execution_count": 13,
   "metadata": {},
   "outputs": [
    {
     "name": "stdout",
     "output_type": "stream",
     "text": [
      "Enter your name - \n",
      "Soumik\n",
      "Enter your age - \n",
      "25\n"
     ]
    }
   ],
   "source": [
    "user_name = input(\"Enter your name - \\n\")\n",
    "user_age = int(input(\"Enter your age - \\n\"))"
   ]
  },
  {
   "cell_type": "code",
   "execution_count": 18,
   "metadata": {},
   "outputs": [
    {
     "name": "stdout",
     "output_type": "stream",
     "text": [
      "Hey Soumik, your age will be 100 in the year 2094\n"
     ]
    }
   ],
   "source": [
    "year = str((2019 - user_age) + 100)  \n",
    "print(\"Hey \"+ user_name +  \", your age will be 100 in the year \" + year  )"
   ]
  },
  {
   "cell_type": "markdown",
   "metadata": {},
   "source": [
    "#### Write a Python program to print the following string in a specific format (see the output). Go to the editor\n",
    "\n",
    "Sample String : \"Twinkle, twinkle, little star, How I wonder what you are! Up above the world so high, Like a diamond in the sky. Twinkle, twinkle, little star, How I wonder what you are\" \n",
    "\n",
    "Output :\n",
    "\n",
    "```\n",
    " Twinkle, twinkle, little star,\n",
    " \tHow I wonder what you are! \n",
    " \t\tUp above the world so high,\n",
    " \t\tLike a diamond in the sky. \n",
    " Twinkle, twinkle, little star, \n",
    " \tHow I wonder what you are\n",
    "    \n",
    " ```"
   ]
  },
  {
   "cell_type": "code",
   "execution_count": 19,
   "metadata": {},
   "outputs": [
    {
     "name": "stdout",
     "output_type": "stream",
     "text": [
      "Enter a String - \n",
      "Twinkle, twinkle, little star, How I wonder what you are! Up above the world so high, Like a diamond in the sky. Twinkle, twinkle, little star, How I wonder what you are\n"
     ]
    }
   ],
   "source": [
    "string = input(\"Enter a String - \\n\")"
   ]
  },
  {
   "cell_type": "code",
   "execution_count": 32,
   "metadata": {},
   "outputs": [
    {
     "name": "stdout",
     "output_type": "stream",
     "text": [
      "Twinkle, twinkle, little star, \n",
      "\t How I wonder what you are! \n",
      "\t\tUp above the world so high, \n",
      "\t\tLike a diamond in the sky. \n",
      "Twinkle, twinkle, little star,\n",
      "\t How I wonder what you are\n"
     ]
    }
   ],
   "source": [
    "print(\"Twinkle, twinkle, little star, \\n\\t How I wonder what you are! \\n\\t\\tUp above the world so high, \\n\\t\\tLike a diamond in the sky. \\nTwinkle, twinkle, little star,\\n\\t How I wonder what you are\")"
   ]
  },
  {
   "cell_type": "markdown",
   "metadata": {},
   "source": [
    "#### Write a Python program which takes two digits m (row) and n (column) as input and generates a two-dimensional array. The element value in the i-th row and j-th column of the array should be i*j. \n",
    "```\n",
    "Note :\n",
    " i = 0,1.., m-1 \n",
    " j = 0,1, n-1.\n",
    "\n",
    " Input\n",
    " Input number of rows: 3                                                                                       \n",
    " Input number of columns: 4  \n",
    "\n",
    " Output\n",
    " [[0, 0, 0, 0], [0, 1, 2, 3], [0, 2, 4, 6]]\n",
    " \n",
    "```"
   ]
  },
  {
   "cell_type": "code",
   "execution_count": 35,
   "metadata": {},
   "outputs": [
    {
     "name": "stdout",
     "output_type": "stream",
     "text": [
      "Enter the number of rows - \n",
      "3\n",
      "Enter the number of coloumns - \n",
      "4\n",
      "[[0, 0, 0, 0], [0, 1, 2, 3], [0, 2, 4, 6]]\n"
     ]
    }
   ],
   "source": [
    "row_number = int(input(\"Enter the number of rows - \\n\"))\n",
    "coloumn_number = int(input(\"Enter the number of coloumns - \\n\"))\n",
    "\n",
    "multi_dim_array = [[0 for col in range(coloumn_number)] for row in range(row_number)]\n",
    "# print(multi_dim_array) [[0, 0, 0, 0], [0, 0, 0, 0], [0, 0, 0, 0]]\n",
    "\n",
    "for row in range(row_number):\n",
    "    for col in range(coloumn_number):\n",
    "        multi_dim_array[row][col]= row*col\n",
    "        \n",
    "print(multi_dim_array)\n",
    "        "
   ]
  },
  {
   "cell_type": "markdown",
   "metadata": {},
   "source": [
    "#### Write a Python program to check a triangle is valid or not"
   ]
  },
  {
   "cell_type": "code",
   "execution_count": 5,
   "metadata": {},
   "outputs": [
    {
     "name": "stdout",
     "output_type": "stream",
     "text": [
      "Enter the length of side 1: \n",
      "15\n",
      "Enter the length of side 2: \n",
      "15\n",
      "Enter the length of side 3: \n",
      "45\n",
      "No, these lengths won't form a triange\n"
     ]
    }
   ],
   "source": [
    "def check_triange(side1, side2, side3):\n",
    "    if(side1 > side2+side3)or (side2 > side1+side3) or (side3 > side1+side2):\n",
    "        print(\"No, these lengths won\\'t form a triange\")\n",
    "    elif (side1 == side2+side3) or (side2 == side1+side3) or (side3 == side1+ side2):\n",
    "        print(\"Yes, these lengths will form a triange\")\n",
    "    else:\n",
    "        print(\"Yes, Triangle formation is possible\")\n",
    "        \n",
    "        \n",
    "        \n",
    "s1 = int(input(\"Enter the length of side 1: \\n\"))\n",
    "s2 = int(input(\"Enter the length of side 2: \\n\"))\n",
    "s3 = int(input(\"Enter the length of side 3: \\n\"))\n",
    "\n",
    "check_triange(s1,s2,s3)"
   ]
  },
  {
   "cell_type": "markdown",
   "metadata": {},
   "source": [
    "#### Write a Python program to construct the following pattern, using a  loop .\n",
    " ```\n",
    " 1                                                                                                             \n",
    " 22                                                                                                            \n",
    " 333                                                                                                           \n",
    " 4444                                                                                                          \n",
    " 55555                                                                                                         \n",
    " 666666                                                                                                        \n",
    " 7777777                                                                                                       \n",
    " 88888888                                                                                                      \n",
    " 999999999  \n",
    " ```"
   ]
  },
  {
   "cell_type": "code",
   "execution_count": 12,
   "metadata": {},
   "outputs": [
    {
     "name": "stdout",
     "output_type": "stream",
     "text": [
      "\n",
      "1\n",
      "22\n",
      "333\n",
      "4444\n",
      "55555\n",
      "666666\n",
      "7777777\n",
      "88888888\n",
      "999999999\n"
     ]
    }
   ],
   "source": [
    "for i in range(10):\n",
    "    print(str(i) * i)"
   ]
  },
  {
   "cell_type": "markdown",
   "metadata": {},
   "source": [
    "#### Write a Python program to construct the following pattern, using a for loop.\n",
    "```\n",
    "* \n",
    "* * \n",
    "* * * \n",
    "* * * * \n",
    "* * * * * \n",
    "* * * * \n",
    "* * * \n",
    "* * \n",
    "*\n",
    "```\n"
   ]
  },
  {
   "cell_type": "code",
   "execution_count": 21,
   "metadata": {},
   "outputs": [
    {
     "name": "stdout",
     "output_type": "stream",
     "text": [
      " \n",
      "*  \n",
      "* *  \n",
      "* * *  \n",
      "* * * *  \n",
      "* * * * *  \n",
      "* * * *  \n",
      "* * *  \n",
      "* *  \n",
      "*  \n"
     ]
    }
   ],
   "source": [
    "star_number = 5\n",
    "\n",
    "for i in range(star_number):\n",
    "    for j in range(i):\n",
    "        print(\"*\", end=\" \")\n",
    "    print(\" \")\n",
    "    \n",
    "for i in range(star_number, 0, -1):\n",
    "    for j in range(i):\n",
    "        print(\"*\", end=\" \")\n",
    "    print(\" \")\n",
    "    \n",
    "\n"
   ]
  },
  {
   "cell_type": "code",
   "execution_count": null,
   "metadata": {},
   "outputs": [],
   "source": []
  }
 ],
 "metadata": {
  "kernelspec": {
   "display_name": "Python 3",
   "language": "python",
   "name": "python3"
  },
  "language_info": {
   "codemirror_mode": {
    "name": "ipython",
    "version": 3
   },
   "file_extension": ".py",
   "mimetype": "text/x-python",
   "name": "python",
   "nbconvert_exporter": "python",
   "pygments_lexer": "ipython3",
   "version": "3.6.8"
  },
  "toc": {
   "base_numbering": 1,
   "nav_menu": {},
   "number_sections": true,
   "sideBar": true,
   "skip_h1_title": false,
   "title_cell": "Table of Contents",
   "title_sidebar": "Contents",
   "toc_cell": false,
   "toc_position": {},
   "toc_section_display": true,
   "toc_window_display": false
  }
 },
 "nbformat": 4,
 "nbformat_minor": 2
}
