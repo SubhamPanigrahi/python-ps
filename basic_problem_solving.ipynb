{
 "cells": [
  {
   "cell_type": "markdown",
   "metadata": {
    "toc": true
   },
   "source": [
    "<h1>Table of Contents<span class=\"tocSkip\"></span></h1>\n",
    "<div class=\"toc\"><ul class=\"toc-item\"><li><span><a href=\"#Write-a-Python-program-that-accepts-an-integer-(n)-and-computes-the-value-of-n+nn+nnn.-Go-to-the-editor,-Sample-value-of-n-is-5-.-Expected-Result-:-615\" data-toc-modified-id=\"Write-a-Python-program-that-accepts-an-integer-(n)-and-computes-the-value-of-n+nn+nnn.-Go-to-the-editor,-Sample-value-of-n-is-5-.-Expected-Result-:-615-1\"><span class=\"toc-item-num\">1&nbsp;&nbsp;</span>Write a Python program that accepts an integer (n) and computes the value of n+nn+nnn. Go to the editor, Sample value of n is 5 . Expected Result : 615</a></span></li><li><span><a href=\"#Create-a-program-that-asks-the-user-to-enter-their-name-and-their-age.--Print-out-a-message-addressed-to-them-that-tells-them-the-year-that-they-will-turn-100-years-old.\" data-toc-modified-id=\"Create-a-program-that-asks-the-user-to-enter-their-name-and-their-age.--Print-out-a-message-addressed-to-them-that-tells-them-the-year-that-they-will-turn-100-years-old.-2\"><span class=\"toc-item-num\">2&nbsp;&nbsp;</span>Create a program that asks the user to enter their name and their age.  Print out a message addressed to them that tells them the year that they will turn 100 years old.</a></span></li><li><span><a href=\"#Write-a-Python-program-to-print-the-following-string-in-a-specific-format-(see-the-output).-Go-to-the-editor\" data-toc-modified-id=\"Write-a-Python-program-to-print-the-following-string-in-a-specific-format-(see-the-output).-Go-to-the-editor-3\"><span class=\"toc-item-num\">3&nbsp;&nbsp;</span>Write a Python program to print the following string in a specific format (see the output). Go to the editor</a></span></li><li><span><a href=\"#Write-a-Python-program-which-takes-two-digits-m-(row)-and-n-(column)-as-input-and-generates-a-two-dimensional-array.-The-element-value-in-the-i-th-row-and-j-th-column-of-the-array-should-be-i*j.\" data-toc-modified-id=\"Write-a-Python-program-which-takes-two-digits-m-(row)-and-n-(column)-as-input-and-generates-a-two-dimensional-array.-The-element-value-in-the-i-th-row-and-j-th-column-of-the-array-should-be-i*j.-4\"><span class=\"toc-item-num\">4&nbsp;&nbsp;</span>Write a Python program which takes two digits m (row) and n (column) as input and generates a two-dimensional array. The element value in the i-th row and j-th column of the array should be i*j.</a></span></li><li><span><a href=\"#Write-a-Python-program-to-check-a-triangle-is-valid-or-not\" data-toc-modified-id=\"Write-a-Python-program-to-check-a-triangle-is-valid-or-not-5\"><span class=\"toc-item-num\">5&nbsp;&nbsp;</span>Write a Python program to check a triangle is valid or not</a></span></li><li><span><a href=\"#Write-a-Python-program-to-construct-the-following-pattern,-using-a--loop-.\" data-toc-modified-id=\"Write-a-Python-program-to-construct-the-following-pattern,-using-a--loop-.-6\"><span class=\"toc-item-num\">6&nbsp;&nbsp;</span>Write a Python program to construct the following pattern, using a  loop .</a></span></li><li><span><a href=\"#Write-a-Python-program-to-construct-the-following-pattern,-using-a-for-loop.\" data-toc-modified-id=\"Write-a-Python-program-to-construct-the-following-pattern,-using-a-for-loop.-7\"><span class=\"toc-item-num\">7&nbsp;&nbsp;</span>Write a Python program to construct the following pattern, using a for loop.</a></span></li><li><span><a href=\"#Write-a-Python-program-that-accepts-a-string-and-calculate-the-number-of-digits-and-letters\" data-toc-modified-id=\"Write-a-Python-program-that-accepts-a-string-and-calculate-the-number-of-digits-and-letters-8\"><span class=\"toc-item-num\">8&nbsp;&nbsp;</span>Write a Python program that accepts a string and calculate the number of digits and letters</a></span></li><li><span><a href=\"#Count-the-number-of-even-and-odd-numbers-from-a-series-of-numbers\" data-toc-modified-id=\"Count-the-number-of-even-and-odd-numbers-from-a-series-of-numbers-9\"><span class=\"toc-item-num\">9&nbsp;&nbsp;</span>Count the number of even and odd numbers from a series of numbers</a></span></li><li><span><a href=\"#Write-a-Python-program-to-get-the-Fibonacci-series-between-0-to-50\" data-toc-modified-id=\"Write-a-Python-program-to-get-the-Fibonacci-series-between-0-to-50-10\"><span class=\"toc-item-num\">10&nbsp;&nbsp;</span>Write a Python program to get the Fibonacci series between 0 to 50</a></span></li><li><span><a href=\"#Write-a-Python-program-to-find-those-numbers-which-are-divisible-by-7-and-multiple-of-5,-between-1500-and-2700\" data-toc-modified-id=\"Write-a-Python-program-to-find-those-numbers-which-are-divisible-by-7-and-multiple-of-5,-between-1500-and-2700-11\"><span class=\"toc-item-num\">11&nbsp;&nbsp;</span>Write a Python program to find those numbers which are divisible by 7 and multiple of 5, between 1500 and 2700</a></span></li><li><span><a href=\"#Generate-a-random-number-between-1-and-9-(including-1-and-9).-Ask-the-user-to-guess-the-number,-then-tell-them-whether-they-guessed-too-low,-too-high,-or-exactly-right.\" data-toc-modified-id=\"Generate-a-random-number-between-1-and-9-(including-1-and-9).-Ask-the-user-to-guess-the-number,-then-tell-them-whether-they-guessed-too-low,-too-high,-or-exactly-right.-12\"><span class=\"toc-item-num\">12&nbsp;&nbsp;</span>Generate a random number between 1 and 9 (including 1 and 9). Ask the user to guess the number, then tell them whether they guessed too low, too high, or exactly right.</a></span></li><li><span><a href=\"#Write-a-Python-program-to-check-the-validity-of-a-password-(input-from-users).\" data-toc-modified-id=\"Write-a-Python-program-to-check-the-validity-of-a-password-(input-from-users).-13\"><span class=\"toc-item-num\">13&nbsp;&nbsp;</span>Write a Python program to check the validity of a password (input from users).</a></span></li><li><span><a href=\"#Write-a-Python-program-to-check-a-triangle-is-equilateral,-isosceles-or-scalene.\" data-toc-modified-id=\"Write-a-Python-program-to-check-a-triangle-is-equilateral,-isosceles-or-scalene.-14\"><span class=\"toc-item-num\">14&nbsp;&nbsp;</span>Write a Python program to check a triangle is equilateral, isosceles or scalene.</a></span></li></ul></div>"
   ]
  },
  {
   "cell_type": "markdown",
   "metadata": {},
   "source": [
    "####  Write a Python program that accepts an integer (n) and computes the value of n+nn+nnn. Go to the editor, Sample value of n is 5 . Expected Result : 615 \n",
    " (5+55+555 = 615)"
   ]
  },
  {
   "cell_type": "code",
   "execution_count": 8,
   "metadata": {},
   "outputs": [
    {
     "name": "stdout",
     "output_type": "stream",
     "text": [
      "Input an integer value\n",
      "5\n"
     ]
    }
   ],
   "source": [
    "n = int(input('Input an integer value\\n'))\n"
   ]
  },
  {
   "cell_type": "code",
   "execution_count": 11,
   "metadata": {},
   "outputs": [
    {
     "name": "stdout",
     "output_type": "stream",
     "text": [
      "615\n"
     ]
    }
   ],
   "source": [
    "n1 = int(\"%s\" % n)              # 5\n",
    "n2 = int(\"%s%s\" % (n,n))        # 55\n",
    "n3 = int(\"%s%s%s\" % (n,n,n))    # 555\n",
    "output = n1+n2+n3               # 5+55+555 \n",
    "print(output)"
   ]
  },
  {
   "cell_type": "markdown",
   "metadata": {},
   "source": [
    "#### Create a program that asks the user to enter their name and their age.  Print out a message addressed to them that tells them the year that they will turn 100 years old."
   ]
  },
  {
   "cell_type": "code",
   "execution_count": 13,
   "metadata": {},
   "outputs": [
    {
     "name": "stdout",
     "output_type": "stream",
     "text": [
      "Enter your name - \n",
      "Soumik\n",
      "Enter your age - \n",
      "25\n"
     ]
    }
   ],
   "source": [
    "user_name = input(\"Enter your name - \\n\")\n",
    "user_age = int(input(\"Enter your age - \\n\"))"
   ]
  },
  {
   "cell_type": "code",
   "execution_count": 18,
   "metadata": {},
   "outputs": [
    {
     "name": "stdout",
     "output_type": "stream",
     "text": [
      "Hey Soumik, your age will be 100 in the year 2094\n"
     ]
    }
   ],
   "source": [
    "year = str((2019 - user_age) + 100)  \n",
    "print(\"Hey \"+ user_name +  \", your age will be 100 in the year \" + year  )"
   ]
  },
  {
   "cell_type": "markdown",
   "metadata": {},
   "source": [
    "#### Write a Python program to print the following string in a specific format (see the output). Go to the editor\n",
    "\n",
    "Sample String : \"Twinkle, twinkle, little star, How I wonder what you are! Up above the world so high, Like a diamond in the sky. Twinkle, twinkle, little star, How I wonder what you are\" \n",
    "\n",
    "Output :\n",
    "\n",
    "```\n",
    " Twinkle, twinkle, little star,\n",
    " \tHow I wonder what you are! \n",
    " \t\tUp above the world so high,\n",
    " \t\tLike a diamond in the sky. \n",
    " Twinkle, twinkle, little star, \n",
    " \tHow I wonder what you are\n",
    "    \n",
    " ```"
   ]
  },
  {
   "cell_type": "code",
   "execution_count": 19,
   "metadata": {},
   "outputs": [
    {
     "name": "stdout",
     "output_type": "stream",
     "text": [
      "Enter a String - \n",
      "Twinkle, twinkle, little star, How I wonder what you are! Up above the world so high, Like a diamond in the sky. Twinkle, twinkle, little star, How I wonder what you are\n"
     ]
    }
   ],
   "source": [
    "string = input(\"Enter a String - \\n\")"
   ]
  },
  {
   "cell_type": "code",
   "execution_count": 32,
   "metadata": {},
   "outputs": [
    {
     "name": "stdout",
     "output_type": "stream",
     "text": [
      "Twinkle, twinkle, little star, \n",
      "\t How I wonder what you are! \n",
      "\t\tUp above the world so high, \n",
      "\t\tLike a diamond in the sky. \n",
      "Twinkle, twinkle, little star,\n",
      "\t How I wonder what you are\n"
     ]
    }
   ],
   "source": [
    "print(\"Twinkle, twinkle, little star, \\n\\t How I wonder what you are! \\n\\t\\tUp above the world so high, \\n\\t\\tLike a diamond in the sky. \\nTwinkle, twinkle, little star,\\n\\t How I wonder what you are\")"
   ]
  },
  {
   "cell_type": "markdown",
   "metadata": {},
   "source": [
    "#### Write a Python program which takes two digits m (row) and n (column) as input and generates a two-dimensional array. The element value in the i-th row and j-th column of the array should be i*j. \n",
    "```\n",
    "Note :\n",
    " i = 0,1.., m-1 \n",
    " j = 0,1, n-1.\n",
    "\n",
    " Input\n",
    " Input number of rows: 3                                                                                       \n",
    " Input number of columns: 4  \n",
    "\n",
    " Output\n",
    " [[0, 0, 0, 0], [0, 1, 2, 3], [0, 2, 4, 6]]\n",
    " \n",
    "```"
   ]
  },
  {
   "cell_type": "code",
   "execution_count": 35,
   "metadata": {},
   "outputs": [
    {
     "name": "stdout",
     "output_type": "stream",
     "text": [
      "Enter the number of rows - \n",
      "3\n",
      "Enter the number of coloumns - \n",
      "4\n",
      "[[0, 0, 0, 0], [0, 1, 2, 3], [0, 2, 4, 6]]\n"
     ]
    }
   ],
   "source": [
    "row_number = int(input(\"Enter the number of rows - \\n\"))\n",
    "coloumn_number = int(input(\"Enter the number of coloumns - \\n\"))\n",
    "\n",
    "multi_dim_array = [[0 for col in range(coloumn_number)] for row in range(row_number)]\n",
    "# print(multi_dim_array) [[0, 0, 0, 0], [0, 0, 0, 0], [0, 0, 0, 0]]\n",
    "\n",
    "for row in range(row_number):\n",
    "    for col in range(coloumn_number):\n",
    "        multi_dim_array[row][col]= row*col\n",
    "        \n",
    "print(multi_dim_array)\n",
    "        "
   ]
  },
  {
   "cell_type": "markdown",
   "metadata": {},
   "source": [
    "#### Write a Python program to check a triangle is valid or not"
   ]
  },
  {
   "cell_type": "code",
   "execution_count": 5,
   "metadata": {},
   "outputs": [
    {
     "name": "stdout",
     "output_type": "stream",
     "text": [
      "Enter the length of side 1: \n",
      "15\n",
      "Enter the length of side 2: \n",
      "15\n",
      "Enter the length of side 3: \n",
      "45\n",
      "No, these lengths won't form a triange\n"
     ]
    }
   ],
   "source": [
    "def check_triange(side1, side2, side3):\n",
    "    if(side1 > side2+side3)or (side2 > side1+side3) or (side3 > side1+side2):\n",
    "        print(\"No, these lengths won\\'t form a triange\")\n",
    "    elif (side1 == side2+side3) or (side2 == side1+side3) or (side3 == side1+ side2):\n",
    "        print(\"Yes, these lengths will form a triange\")\n",
    "    else:\n",
    "        print(\"Yes, Triangle formation is possible\")\n",
    "        \n",
    "        \n",
    "        \n",
    "s1 = int(input(\"Enter the length of side 1: \\n\"))\n",
    "s2 = int(input(\"Enter the length of side 2: \\n\"))\n",
    "s3 = int(input(\"Enter the length of side 3: \\n\"))\n",
    "\n",
    "check_triange(s1,s2,s3)"
   ]
  },
  {
   "cell_type": "markdown",
   "metadata": {},
   "source": [
    "#### Write a Python program to construct the following pattern, using a  loop .\n",
    " ```\n",
    " 1                                                                                                             \n",
    " 22                                                                                                            \n",
    " 333                                                                                                           \n",
    " 4444                                                                                                          \n",
    " 55555                                                                                                         \n",
    " 666666                                                                                                        \n",
    " 7777777                                                                                                       \n",
    " 88888888                                                                                                      \n",
    " 999999999  \n",
    " ```"
   ]
  },
  {
   "cell_type": "code",
   "execution_count": 12,
   "metadata": {},
   "outputs": [
    {
     "name": "stdout",
     "output_type": "stream",
     "text": [
      "\n",
      "1\n",
      "22\n",
      "333\n",
      "4444\n",
      "55555\n",
      "666666\n",
      "7777777\n",
      "88888888\n",
      "999999999\n"
     ]
    }
   ],
   "source": [
    "for i in range(10):\n",
    "    print(str(i) * i)"
   ]
  },
  {
   "cell_type": "markdown",
   "metadata": {},
   "source": [
    "#### Write a Python program to construct the following pattern, using a for loop.\n",
    "```\n",
    "* \n",
    "* * \n",
    "* * * \n",
    "* * * * \n",
    "* * * * * \n",
    "* * * * \n",
    "* * * \n",
    "* * \n",
    "*\n",
    "```\n"
   ]
  },
  {
   "cell_type": "code",
   "execution_count": 24,
   "metadata": {},
   "outputs": [
    {
     "name": "stdout",
     "output_type": "stream",
     "text": [
      " \n",
      "*  \n",
      "* *  \n",
      "* * *  \n",
      "* * * *  \n",
      "* * * * *  \n",
      "* * * *  \n",
      "* * *  \n",
      "* *  \n",
      "*  \n"
     ]
    }
   ],
   "source": [
    "star_number = 5\n",
    "\n",
    "for i in range(star_number):\n",
    "    for j in range(i):\n",
    "        print(\"*\", end=\" \")\n",
    "    print(\" \")\n",
    "    \n",
    "for i in range(star_number, 0, -1):\n",
    "    for j in range(i):\n",
    "        print(\"*\", end=\" \")\n",
    "    print(\" \")\n",
    "    "
   ]
  },
  {
   "cell_type": "markdown",
   "metadata": {},
   "source": [
    "#### Write a Python program that accepts a string and calculate the number of digits and letters\n",
    "```\n",
    "Sample Data : \"Python 3.2\"\n",
    "Expected Output :\n",
    "Letters 6 \n",
    "Digits 2\n",
    "```"
   ]
  },
  {
   "cell_type": "code",
   "execution_count": 33,
   "metadata": {},
   "outputs": [
    {
     "name": "stdout",
     "output_type": "stream",
     "text": [
      "Enter a String: Bangladesh71\n",
      "----------------------------------------\n",
      "Letters:  10 \n",
      "Digits:  2\n"
     ]
    }
   ],
   "source": [
    "input_sample = input(\"Enter a String: \")\n",
    "\n",
    "digit = letter = 0\n",
    "\n",
    "for i in input_sample:\n",
    "    if i.isdigit():\n",
    "        digit = digit + 1\n",
    "    elif i.isalpha():\n",
    "        letter = letter + 1\n",
    "    else:\n",
    "        pass\n",
    "    \n",
    "print(\"----------------------------------------\")\n",
    "print(\"Letters: \", letter, \"\\nDigits: \", digit)\n",
    "    "
   ]
  },
  {
   "cell_type": "markdown",
   "metadata": {},
   "source": [
    "#### Count the number of even and odd numbers from a series of numbers\n",
    "```\n",
    "Input \n",
    "numbers = (1, 2, 3, 4, 5, 6, 7, 8, 9) # Declaring the tuple\n",
    "Output\n",
    "Number of even numbers : 4                                                                                    \n",
    "Number of odd numbers : 5\n",
    "```"
   ]
  },
  {
   "cell_type": "code",
   "execution_count": 52,
   "metadata": {},
   "outputs": [
    {
     "name": "stdout",
     "output_type": "stream",
     "text": [
      "Input: 10,30,14,11,21,26\n",
      "Even numbers:  4 \n",
      "Odd Numbers:  2\n"
     ]
    }
   ],
   "source": [
    "#sample_numbers = (1,2,3,4,14,78,89,45,11,45,48,52,56)\n",
    "sample_numbers = tuple(map(int, input(\"Input: \").split(',')))\n",
    "even_numbers = odd_numbers = 0\n",
    "\n",
    "for i in sample_numbers:\n",
    "    if i%2 == 0:\n",
    "        even_numbers = even_numbers + 1\n",
    "    elif i%2 != 0:\n",
    "        odd_numbers = odd_numbers + 1\n",
    "        \n",
    "print(\"Even numbers: \", even_numbers, \"\\nOdd Numbers: \",odd_numbers)\n"
   ]
  },
  {
   "cell_type": "markdown",
   "metadata": {},
   "source": [
    "#### Write a Python program to get the Fibonacci series between 0 to 50"
   ]
  },
  {
   "cell_type": "code",
   "execution_count": 3,
   "metadata": {},
   "outputs": [
    {
     "name": "stdout",
     "output_type": "stream",
     "text": [
      "1\n",
      "1\n",
      "2\n",
      "3\n",
      "5\n",
      "8\n",
      "13\n",
      "21\n",
      "34\n"
     ]
    }
   ],
   "source": [
    "x,y = 0,1\n",
    "while y<50:\n",
    "    print(y)\n",
    "    x,y = y, x+y\n",
    "    "
   ]
  },
  {
   "cell_type": "code",
   "execution_count": 1,
   "metadata": {},
   "outputs": [
    {
     "name": "stdout",
     "output_type": "stream",
     "text": [
      "Enter how many numbers you want to print - 10\n",
      "0 1 1 2 4 7 11 16 22 29 "
     ]
    }
   ],
   "source": [
    "def fibonacci(n):\n",
    "    if n == 0:\n",
    "        return n\n",
    "    elif n == 1:\n",
    "        return n\n",
    "    else:\n",
    "        return fibonacci(n-1)+(n-2)\n",
    "            \n",
    "        \n",
    "input_sample = int(input(\"Enter how many numbers you want to print - \"))\n",
    "\n",
    "for i in range(input_sample):\n",
    "   print(fibonacci(i), end=\" \" )\n",
    "       "
   ]
  },
  {
   "cell_type": "markdown",
   "metadata": {},
   "source": [
    "####   Write a Python program to find those numbers which are divisible by 7 and multiple of 5, between 1500 and 2700\n"
   ]
  },
  {
   "cell_type": "code",
   "execution_count": 8,
   "metadata": {},
   "outputs": [
    {
     "name": "stdout",
     "output_type": "stream",
     "text": [
      "1505,1540,1575,1610,1645,1680,1715,1750,1785,1820,1855,1890,1925,1960,1995,2030,2065,2100,2135,2170,2205,2240,2275,2310,2345,2380,2415,2450,2485,2520,2555,2590,2625,2660,2695\n"
     ]
    }
   ],
   "source": [
    "numbers = []\n",
    "\n",
    "for i in range(1500,2700):\n",
    "    if (i%7==0) and (i%5==0):\n",
    "        numbers.append(str(i))\n",
    "        \n",
    "\n",
    "print(','.join(numbers))"
   ]
  },
  {
   "cell_type": "code",
   "execution_count": 7,
   "metadata": {},
   "outputs": [
    {
     "name": "stdout",
     "output_type": "stream",
     "text": [
      "[1505, 1540, 1575, 1610, 1645, 1680, 1715, 1750, 1785, 1820, 1855, 1890, 1925, 1960, 1995, 2030, 2065, 2100, 2135, 2170, 2205, 2240, 2275, 2310, 2345, 2380, 2415, 2450, 2485, 2520, 2555, 2590, 2625, 2660, 2695]\n"
     ]
    }
   ],
   "source": [
    "numbers = []\n",
    "\n",
    "for i in range(1500,2700):\n",
    "    if (i%7==0) and (i%5==0):\n",
    "        numbers.append((i))\n",
    "        \n",
    "print(numbers)"
   ]
  },
  {
   "cell_type": "markdown",
   "metadata": {},
   "source": [
    "####  Generate a random number between 1 and 9 (including 1 and 9). Ask the user to guess the number, then tell them whether they guessed too low, too high, or exactly right. \n"
   ]
  },
  {
   "cell_type": "code",
   "execution_count": 1,
   "metadata": {},
   "outputs": [
    {
     "name": "stdout",
     "output_type": "stream",
     "text": [
      "What's your guess?5\n",
      "Too High\n",
      "What's your guess?4\n",
      "Too High\n",
      "What's your guess?2\n",
      "You got it right\n",
      "It took 3 times to guess the right number\n"
     ]
    }
   ],
   "source": [
    "import random\n",
    "\n",
    "random_number = random.randint(1,9)\n",
    "\n",
    "guess = 0\n",
    "count = 0\n",
    "\n",
    "while (guess != random_number) and (guess != \"exit\"):\n",
    "    guess = input(\"What\\'s your guess?\")\n",
    "    \n",
    "    if guess == \"exit\":\n",
    "        break\n",
    "    \n",
    "    guess = int(guess)\n",
    "    count = count + 1\n",
    "    \n",
    "    if guess < random_number:\n",
    "        print(\"Too Low.\")\n",
    "    elif guess > random_number:\n",
    "        print(\"Too High\")\n",
    "    else:\n",
    "        print(\"You got it right\")\n",
    "        print(\"It took\", count, \"times to guess the right number\")\n",
    "    \n",
    "        "
   ]
  },
  {
   "cell_type": "markdown",
   "metadata": {},
   "source": [
    "#### Write a Python program to check the validity of a password (input from users).\n",
    "```\n",
    "Validation :\n",
    "\n",
    "- At least 1 letter between [a-z] and 1 letter between [A-Z].\n",
    "- At least 1 number between [0-9].\n",
    "- At least 1 character from [$#@].\n",
    "- Minimum length 6 characters.\n",
    "- Maximum length 16 characters.\n",
    "\n",
    " Input: \n",
    " W3r@100a\n",
    " \n",
    " Output:\n",
    " Valid password\n",
    " ```"
   ]
  },
  {
   "cell_type": "code",
   "execution_count": 12,
   "metadata": {},
   "outputs": [
    {
     "name": "stdout",
     "output_type": "stream",
     "text": [
      "Enter your password:   W3r@100a\n",
      "Valid Password\n"
     ]
    }
   ],
   "source": [
    "import re\n",
    "\n",
    "password = input(\"Enter your password:  \")\n",
    "condition = True\n",
    "\n",
    "while condition:\n",
    "    if (len(password)<6 and len(password)>16):\n",
    "        break\n",
    "        \n",
    "    elif not re.search(\"[a-z]\", password):\n",
    "        break\n",
    "    \n",
    "    elif not re.search(\"[A-Z]\", password):\n",
    "        break\n",
    "        \n",
    "    elif not re.search(\"[0-9]\", password):\n",
    "        break\n",
    "        \n",
    "    elif not re.search(\"[$#@]\", password):\n",
    "        break\n",
    "        \n",
    "    else:\n",
    "        print(\"Valid Password\")\n",
    "        condition = False\n",
    "        break\n",
    "        \n",
    "        \n",
    "if condition:\n",
    "    print(\"Not a Valid Password\")\n",
    "    "
   ]
  },
  {
   "cell_type": "markdown",
   "metadata": {},
   "source": [
    "#### Write a Python program to check a triangle is equilateral, isosceles or scalene.\n",
    "```\n",
    "Note :\n",
    "An equilateral triangle is a triangle in which all three sides are equal.\n",
    "A scalene triangle is a triangle that has three unequal sides.\n",
    "An isosceles triangle is a triangle with (at least) two equal sides.\n",
    "```"
   ]
  },
  {
   "cell_type": "code",
   "execution_count": 2,
   "metadata": {},
   "outputs": [
    {
     "name": "stdout",
     "output_type": "stream",
     "text": [
      "10 15 16\n",
      "Scalene\n"
     ]
    }
   ],
   "source": [
    "\n",
    "    \n",
    "triangle_lengths = list(map(int, input().split(' ')))\n",
    "\n",
    "if triangle_lengths[0] == triangle_lengths[1] == triangle_lengths[2]:\n",
    "    print(\"Equilateral\")\n",
    "elif triangle_lengths[0] != triangle_lengths[1] != triangle_lengths[2]:\n",
    "    print(\"Scalene\")\n",
    "    \n",
    "else:\n",
    "    print(\"Isosceles\")\n",
    "        "
   ]
  },
  {
   "cell_type": "code",
   "execution_count": null,
   "metadata": {},
   "outputs": [],
   "source": []
  }
 ],
 "metadata": {
  "kernelspec": {
   "display_name": "Python 3",
   "language": "python",
   "name": "python3"
  },
  "language_info": {
   "codemirror_mode": {
    "name": "ipython",
    "version": 3
   },
   "file_extension": ".py",
   "mimetype": "text/x-python",
   "name": "python",
   "nbconvert_exporter": "python",
   "pygments_lexer": "ipython3",
   "version": "3.6.8"
  },
  "toc": {
   "base_numbering": 1,
   "nav_menu": {},
   "number_sections": true,
   "sideBar": true,
   "skip_h1_title": false,
   "title_cell": "Table of Contents",
   "title_sidebar": "Contents",
   "toc_cell": true,
   "toc_position": {
    "height": "calc(100% - 180px)",
    "left": "10px",
    "top": "150px",
    "width": "165px"
   },
   "toc_section_display": true,
   "toc_window_display": false
  }
 },
 "nbformat": 4,
 "nbformat_minor": 2
}
