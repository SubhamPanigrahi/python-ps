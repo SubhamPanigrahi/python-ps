{
 "cells": [
  {
   "cell_type": "markdown",
   "metadata": {},
   "source": [
    "#### Import all the helper libraries "
   ]
  },
  {
   "cell_type": "code",
   "execution_count": 1,
   "metadata": {},
   "outputs": [],
   "source": [
    "import re"
   ]
  },
  {
   "cell_type": "markdown",
   "metadata": {},
   "source": [
    "#### extract email address from text"
   ]
  },
  {
   "cell_type": "code",
   "execution_count": 13,
   "metadata": {},
   "outputs": [
    {
     "data": {
      "text/plain": [
       "['sadmanks@gmail.com',\n",
       " 'sadman.soumik@outlook.com',\n",
       " 'sadman.soumik@chowagiken.co.jp']"
      ]
     },
     "execution_count": 13,
     "metadata": {},
     "output_type": "execute_result"
    }
   ],
   "source": [
    "text = \"This text contains few gmail sadmanks@gmail.com and sadman.soumik@outlook.com and another one sadman.soumik@chowagiken.co.jp\"\n",
    "\n",
    "emails = re.findall(r\"[\\w.-]+@[\\w.-]+\", text)\n",
    "emails"
   ]
  },
  {
   "cell_type": "markdown",
   "metadata": {},
   "source": [
    "#### extract email address from a text document"
   ]
  },
  {
   "cell_type": "code",
   "execution_count": 19,
   "metadata": {},
   "outputs": [
    {
     "name": "stdout",
     "output_type": "stream",
     "text": [
      "This text contains few gmail sadmanks@gmail.com and sadman.soumik@outlook.com and \n",
      "another one sadman.soumik@chowagiken.co.jp\n",
      "\n",
      "\n"
     ]
    }
   ],
   "source": [
    "# read the text file \n",
    "with open(\"emails.txt\", 'r') as rt:\n",
    "    doc = rt.read()\n",
    "\n",
    "print(doc) # read the document"
   ]
  },
  {
   "cell_type": "code",
   "execution_count": 20,
   "metadata": {},
   "outputs": [
    {
     "name": "stdout",
     "output_type": "stream",
     "text": [
      "['sadmanks@gmail.com', 'sadman.soumik@outlook.com', 'sadman.soumik@chowagiken.co.jp']\n"
     ]
    }
   ],
   "source": [
    "emails_from_doc = re.findall(r\"[\\w.-]+@[\\w.-]+\", txt)\n",
    "print(emails_from_doc)"
   ]
  },
  {
   "cell_type": "code",
   "execution_count": null,
   "metadata": {},
   "outputs": [],
   "source": [
    "re.findall(r\"[\\w.-]+[\\w.-]\", container)"
   ]
  },
  {
   "cell_type": "code",
   "execution_count": null,
   "metadata": {},
   "outputs": [],
   "source": []
  }
 ],
 "metadata": {
  "kernelspec": {
   "display_name": "Python 3",
   "language": "python",
   "name": "python3"
  },
  "language_info": {
   "codemirror_mode": {
    "name": "ipython",
    "version": 3
   },
   "file_extension": ".py",
   "mimetype": "text/x-python",
   "name": "python",
   "nbconvert_exporter": "python",
   "pygments_lexer": "ipython3",
   "version": "3.7.4"
  }
 },
 "nbformat": 4,
 "nbformat_minor": 2
}
