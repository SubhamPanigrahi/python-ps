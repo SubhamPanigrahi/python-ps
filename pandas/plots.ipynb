{
 "cells": [
  {
   "cell_type": "code",
   "execution_count": 11,
   "metadata": {},
   "outputs": [],
   "source": [
    "import pandas as pd"
   ]
  },
  {
   "cell_type": "code",
   "execution_count": 12,
   "metadata": {},
   "outputs": [],
   "source": [
    "import matplotlib.pyplot as plt"
   ]
  },
  {
   "cell_type": "code",
   "execution_count": 13,
   "metadata": {},
   "outputs": [],
   "source": [
    "t = pd.read_csv('titles.csv', index_col = None)"
   ]
  },
  {
   "cell_type": "code",
   "execution_count": 14,
   "metadata": {},
   "outputs": [
    {
     "data": {
      "image/png": "[encoded data removed]",
      "text/plain": [
       "<Figure size 432x288 with 1 Axes>"
      ]
     },
     "metadata": {
      "needs_background": "light"
     },
     "output_type": "display_data"
    }
   ],
   "source": [
    "p = t['year'].value_counts()\n",
    "p.sort_index().plot()\n",
    "plt.show()"
   ]
  },
  {
   "cell_type": "markdown",
   "metadata": {},
   "source": [
    "The above graph provides some useful information. It shows the number of movies are increasing each year."
   ]
  },
  {
   "cell_type": "markdown",
   "metadata": {},
   "source": [
    "##### Group By"
   ]
  },
  {
   "cell_type": "code",
   "execution_count": 23,
   "metadata": {},
   "outputs": [
    {
     "data": {
      "image/png": "[encoded data removed]",
      "text/plain": [
       "<Figure size 432x288 with 1 Axes>"
      ]
     },
     "metadata": {
      "needs_background": "light"
     },
     "output_type": "display_data"
    }
   ],
   "source": [
    "cg = t.groupby(['year']).size()\n",
    "cg.plot()\n",
    "plt.show()"
   ]
  },
  {
   "cell_type": "code",
   "execution_count": 24,
   "metadata": {},
   "outputs": [],
   "source": [
    "c = pd.read_csv('cast.csv', index_col =None)"
   ]
  },
  {
   "cell_type": "code",
   "execution_count": 25,
   "metadata": {},
   "outputs": [
    {
     "data": {
      "text/plain": [
       "year\n",
       "2003    2\n",
       "2004    2\n",
       "2005    2\n",
       "2006    1\n",
       "2007    2\n",
       "dtype: int64"
      ]
     },
     "execution_count": 25,
     "metadata": {},
     "output_type": "execute_result"
    }
   ],
   "source": [
    "cf = c[c['name'] == 'Aaron Abrams']\n",
    "cf.groupby(['year']).size().head()"
   ]
  },
  {
   "cell_type": "markdown",
   "metadata": {},
   "source": [
    "size() option counts the total number for rows for each year; therefore the result is same as ‘count_values()’ command"
   ]
  },
  {
   "cell_type": "code",
   "execution_count": 31,
   "metadata": {},
   "outputs": [
    {
     "data": {
      "text/plain": [
       "year  name        \n",
       "2003  Aaron Abrams    2\n",
       "2004  Aaron Abrams    2\n",
       "2005  Aaron Abrams    2\n",
       "2006  Aaron Abrams    1\n",
       "2007  Aaron Abrams    2\n",
       "dtype: int64"
      ]
     },
     "execution_count": 31,
     "metadata": {},
     "output_type": "execute_result"
    }
   ],
   "source": [
    "cf = c[c['name'] == 'Aaron Abrams']\n",
    "cf.groupby(['year', 'name']).size().head()"
   ]
  },
  {
   "cell_type": "code",
   "execution_count": 36,
   "metadata": {},
   "outputs": [
    {
     "data": {
      "text/plain": [
       "year  name          title                               \n",
       "2003  Aaron Abrams  The In-Laws                             1\n",
       "                    The Visual Bible: The Gospel of John    1\n",
       "2004  Aaron Abrams  Resident Evil: Apocalypse               1\n",
       "                    Siblings                                1\n",
       "2005  Aaron Abrams  Cinderella Man                          1\n",
       "                    Sabah                                   1\n",
       "2006  Aaron Abrams  Zoom                                    1\n",
       "2007  Aaron Abrams  Firehouse Dog                           1\n",
       "                    Young People Fucking                    1\n",
       "2008  Aaron Abrams  Flash of Genius                         1\n",
       "2009  Aaron Abrams  Amelia                                  1\n",
       "                    At Home by Myself... with You           1\n",
       "2011  Aaron Abrams  388 Arletta Avenue                      1\n",
       "                    Jesus Henry Christ                      2\n",
       "                    Take This Waltz                         1\n",
       "                    The Chicago 8                           1\n",
       "2013  Aaron Abrams  It Was You Charlie                      1\n",
       "2015  Aaron Abrams  Closet Monster                          1\n",
       "                    Regression                              1\n",
       "2017  Aaron Abrams  #FromJennifer                           1\n",
       "                    The Go-Getters                          1\n",
       "2018  Aaron Abrams  Code 8                                  1\n",
       "dtype: int64"
      ]
     },
     "execution_count": 36,
     "metadata": {},
     "output_type": "execute_result"
    }
   ],
   "source": [
    "cf = c[c['name'] == 'Aaron Abrams']\n",
    "cf.groupby(['year', 'name', 'title']).size().head(30)"
   ]
  },
  {
   "cell_type": "markdown",
   "metadata": {},
   "source": [
    "##### Next, we want to do grouping based on maximum ratings in a year; i.e. we want to group the items by year and see the maximum rating in those years "
   ]
  },
  {
   "cell_type": "code",
   "execution_count": 38,
   "metadata": {},
   "outputs": [
    {
     "data": {
      "text/plain": [
       "year\n",
       "1912     6.0\n",
       "1913    14.0\n",
       "1914    39.0\n",
       "1915    14.0\n",
       "1916    35.0\n",
       "Name: n, dtype: float64"
      ]
     },
     "execution_count": 38,
     "metadata": {},
     "output_type": "execute_result"
    }
   ],
   "source": [
    "gb = c.groupby(['year']).n.max().head()\n",
    "gb"
   ]
  },
  {
   "cell_type": "code",
   "execution_count": null,
   "metadata": {},
   "outputs": [],
   "source": []
  }
 ],
 "metadata": {
  "kernelspec": {
   "display_name": "Python 3",
   "language": "python",
   "name": "python3"
  },
  "language_info": {
   "codemirror_mode": {
    "name": "ipython",
    "version": 3
   },
   "file_extension": ".py",
   "mimetype": "text/x-python",
   "name": "python",
   "nbconvert_exporter": "python",
   "pygments_lexer": "ipython3",
   "version": "3.6.8"
  },
  "toc": {
   "base_numbering": 1,
   "nav_menu": {},
   "number_sections": true,
   "sideBar": true,
   "skip_h1_title": false,
   "title_cell": "Table of Contents",
   "title_sidebar": "Contents",
   "toc_cell": false,
   "toc_position": {},
   "toc_section_display": true,
   "toc_window_display": false
  }
 },
 "nbformat": 4,
 "nbformat_minor": 2
}
