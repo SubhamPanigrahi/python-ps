{
 "cells": [
  {
   "cell_type": "code",
   "execution_count": 181,
   "metadata": {},
   "outputs": [],
   "source": [
    "import os\n",
    "import pandas as pd\n",
    "\n",
    "df = pd.read_excel(\"C:/Users/sadma/OneDrive/Desktop/chowa/00_combined.xlsx\", header=1)"
   ]
  },
  {
   "cell_type": "code",
   "execution_count": 182,
   "metadata": {
    "scrolled": true
   },
   "outputs": [
    {
     "data": {
      "text/html": [
       "<div>\n",
       "<style scoped>\n",
       "    .dataframe tbody tr th:only-of-type {\n",
       "        vertical-align: middle;\n",
       "    }\n",
       "\n",
       "    .dataframe tbody tr th {\n",
       "        vertical-align: top;\n",
       "    }\n",
       "\n",
       "    .dataframe thead th {\n",
       "        text-align: right;\n",
       "    }\n",
       "</style>\n",
       "<table border=\"1\" class=\"dataframe\">\n",
       "  <thead>\n",
       "    <tr style=\"text-align: right;\">\n",
       "      <th></th>\n",
       "      <th>Unnamed: 0</th>\n",
       "      <th>画像ファイル名</th>\n",
       "      <th>路線</th>\n",
       "      <th>KP</th>\n",
       "      <th>経過時間（秒）</th>\n",
       "      <th>時分秒</th>\n",
       "      <th>速度</th>\n",
       "      <th>視程</th>\n",
       "      <th>Unnamed: 8</th>\n",
       "      <th>Unnamed: 9</th>\n",
       "      <th>視程ランク</th>\n",
       "    </tr>\n",
       "  </thead>\n",
       "  <tbody>\n",
       "    <tr>\n",
       "      <td>0</td>\n",
       "      <td>NaN</td>\n",
       "      <td>NaN</td>\n",
       "      <td>NaN</td>\n",
       "      <td>NaN</td>\n",
       "      <td>NaN</td>\n",
       "      <td>NaN</td>\n",
       "      <td>NaN</td>\n",
       "      <td>NaN</td>\n",
       "      <td>NaN</td>\n",
       "      <td>NaN</td>\n",
       "      <td>NaN</td>\n",
       "    </tr>\n",
       "    <tr>\n",
       "      <td>1</td>\n",
       "      <td>NaN</td>\n",
       "      <td>NaN</td>\n",
       "      <td>NaN</td>\n",
       "      <td>NaN</td>\n",
       "      <td>NaN</td>\n",
       "      <td>NaN</td>\n",
       "      <td>km/h</td>\n",
       "      <td>NaN</td>\n",
       "      <td>NaN</td>\n",
       "      <td>NaN</td>\n",
       "      <td>NaN</td>\n",
       "    </tr>\n",
       "    <tr>\n",
       "      <td>2</td>\n",
       "      <td>NaN</td>\n",
       "      <td>NaN</td>\n",
       "      <td>NaN</td>\n",
       "      <td>km</td>\n",
       "      <td>NaN</td>\n",
       "      <td>NaN</td>\n",
       "      <td>NaN</td>\n",
       "      <td>m</td>\n",
       "      <td>平均</td>\n",
       "      <td>中央値</td>\n",
       "      <td>18833</td>\n",
       "    </tr>\n",
       "    <tr>\n",
       "      <td>3</td>\n",
       "      <td>NaN</td>\n",
       "      <td>NaN</td>\n",
       "      <td>NaN</td>\n",
       "      <td>NaN</td>\n",
       "      <td>NaN</td>\n",
       "      <td>NaN</td>\n",
       "      <td>NaN</td>\n",
       "      <td>NaN</td>\n",
       "      <td>NaN</td>\n",
       "      <td>NaN</td>\n",
       "      <td>NaN</td>\n",
       "    </tr>\n",
       "    <tr>\n",
       "      <td>4</td>\n",
       "      <td>r231-140131-144430</td>\n",
       "      <td>r231-140131-144430-0000_.jpg</td>\n",
       "      <td>r231</td>\n",
       "      <td>52</td>\n",
       "      <td>0.0</td>\n",
       "      <td>14:44:33</td>\n",
       "      <td>0</td>\n",
       "      <td>2000</td>\n",
       "      <td>2000</td>\n",
       "      <td>2000</td>\n",
       "      <td>NaN</td>\n",
       "    </tr>\n",
       "    <tr>\n",
       "      <td>5</td>\n",
       "      <td>r231-140131-144430</td>\n",
       "      <td>r231-140131-144430-0001_.jpg</td>\n",
       "      <td>r231</td>\n",
       "      <td>52</td>\n",
       "      <td>1.0</td>\n",
       "      <td>14:44:34</td>\n",
       "      <td>0</td>\n",
       "      <td>2000</td>\n",
       "      <td>2000</td>\n",
       "      <td>2000</td>\n",
       "      <td>NaN</td>\n",
       "    </tr>\n",
       "    <tr>\n",
       "      <td>6</td>\n",
       "      <td>r231-140131-144430</td>\n",
       "      <td>r231-140131-144430-0002_.jpg</td>\n",
       "      <td>r231</td>\n",
       "      <td>52</td>\n",
       "      <td>2.0</td>\n",
       "      <td>14:44:35</td>\n",
       "      <td>0</td>\n",
       "      <td>2000</td>\n",
       "      <td>2000</td>\n",
       "      <td>2000</td>\n",
       "      <td>NaN</td>\n",
       "    </tr>\n",
       "  </tbody>\n",
       "</table>\n",
       "</div>"
      ],
      "text/plain": [
       "           Unnamed: 0                       画像ファイル名    路線   KP  経過時間（秒）  \\\n",
       "0                 NaN                           NaN   NaN  NaN      NaN   \n",
       "1                 NaN                           NaN   NaN  NaN      NaN   \n",
       "2                 NaN                           NaN   NaN   km      NaN   \n",
       "3                 NaN                           NaN   NaN  NaN      NaN   \n",
       "4  r231-140131-144430  r231-140131-144430-0000_.jpg  r231   52      0.0   \n",
       "5  r231-140131-144430  r231-140131-144430-0001_.jpg  r231   52      1.0   \n",
       "6  r231-140131-144430  r231-140131-144430-0002_.jpg  r231   52      2.0   \n",
       "\n",
       "        時分秒    速度    視程 Unnamed: 8 Unnamed: 9  視程ランク  \n",
       "0       NaN   NaN   NaN        NaN        NaN    NaN  \n",
       "1       NaN  km/h   NaN        NaN        NaN    NaN  \n",
       "2       NaN   NaN     m         平均        中央値  18833  \n",
       "3       NaN   NaN   NaN        NaN        NaN    NaN  \n",
       "4  14:44:33     0  2000       2000       2000    NaN  \n",
       "5  14:44:34     0  2000       2000       2000    NaN  \n",
       "6  14:44:35     0  2000       2000       2000    NaN  "
      ]
     },
     "metadata": {},
     "output_type": "display_data"
    }
   ],
   "source": [
    "display(df[0:7])"
   ]
  },
  {
   "cell_type": "code",
   "execution_count": 183,
   "metadata": {},
   "outputs": [],
   "source": [
    "df = df.drop(df.index[0:5])"
   ]
  },
  {
   "cell_type": "code",
   "execution_count": 184,
   "metadata": {},
   "outputs": [
    {
     "data": {
      "text/html": [
       "<div>\n",
       "<style scoped>\n",
       "    .dataframe tbody tr th:only-of-type {\n",
       "        vertical-align: middle;\n",
       "    }\n",
       "\n",
       "    .dataframe tbody tr th {\n",
       "        vertical-align: top;\n",
       "    }\n",
       "\n",
       "    .dataframe thead th {\n",
       "        text-align: right;\n",
       "    }\n",
       "</style>\n",
       "<table border=\"1\" class=\"dataframe\">\n",
       "  <thead>\n",
       "    <tr style=\"text-align: right;\">\n",
       "      <th></th>\n",
       "      <th>Unnamed: 0</th>\n",
       "      <th>画像ファイル名</th>\n",
       "      <th>路線</th>\n",
       "      <th>KP</th>\n",
       "      <th>経過時間（秒）</th>\n",
       "      <th>時分秒</th>\n",
       "      <th>速度</th>\n",
       "      <th>視程</th>\n",
       "      <th>Unnamed: 8</th>\n",
       "      <th>Unnamed: 9</th>\n",
       "      <th>視程ランク</th>\n",
       "    </tr>\n",
       "  </thead>\n",
       "  <tbody>\n",
       "    <tr>\n",
       "      <td>5</td>\n",
       "      <td>r231-140131-144430</td>\n",
       "      <td>r231-140131-144430-0001_.jpg</td>\n",
       "      <td>r231</td>\n",
       "      <td>52</td>\n",
       "      <td>1.0</td>\n",
       "      <td>14:44:34</td>\n",
       "      <td>0</td>\n",
       "      <td>2000</td>\n",
       "      <td>2000</td>\n",
       "      <td>2000</td>\n",
       "      <td>NaN</td>\n",
       "    </tr>\n",
       "    <tr>\n",
       "      <td>6</td>\n",
       "      <td>r231-140131-144430</td>\n",
       "      <td>r231-140131-144430-0002_.jpg</td>\n",
       "      <td>r231</td>\n",
       "      <td>52</td>\n",
       "      <td>2.0</td>\n",
       "      <td>14:44:35</td>\n",
       "      <td>0</td>\n",
       "      <td>2000</td>\n",
       "      <td>2000</td>\n",
       "      <td>2000</td>\n",
       "      <td>NaN</td>\n",
       "    </tr>\n",
       "    <tr>\n",
       "      <td>7</td>\n",
       "      <td>r231-140131-144430</td>\n",
       "      <td>r231-140131-144430-0003_.jpg</td>\n",
       "      <td>r231</td>\n",
       "      <td>52</td>\n",
       "      <td>3.0</td>\n",
       "      <td>14:44:36</td>\n",
       "      <td>0</td>\n",
       "      <td>2000</td>\n",
       "      <td>2000</td>\n",
       "      <td>2000</td>\n",
       "      <td>NaN</td>\n",
       "    </tr>\n",
       "    <tr>\n",
       "      <td>8</td>\n",
       "      <td>r231-140131-144430</td>\n",
       "      <td>r231-140131-144430-0004_.jpg</td>\n",
       "      <td>r231</td>\n",
       "      <td>52</td>\n",
       "      <td>4.0</td>\n",
       "      <td>14:44:37</td>\n",
       "      <td>0</td>\n",
       "      <td>2000</td>\n",
       "      <td>2000</td>\n",
       "      <td>2000</td>\n",
       "      <td>NaN</td>\n",
       "    </tr>\n",
       "    <tr>\n",
       "      <td>9</td>\n",
       "      <td>r231-140131-144430</td>\n",
       "      <td>r231-140131-144430-0005_.jpg</td>\n",
       "      <td>r231</td>\n",
       "      <td>52</td>\n",
       "      <td>5.0</td>\n",
       "      <td>14:44:38</td>\n",
       "      <td>0</td>\n",
       "      <td>2000</td>\n",
       "      <td>2000</td>\n",
       "      <td>2000</td>\n",
       "      <td>NaN</td>\n",
       "    </tr>\n",
       "    <tr>\n",
       "      <td>10</td>\n",
       "      <td>r231-140131-144430</td>\n",
       "      <td>r231-140131-144430-0006_.jpg</td>\n",
       "      <td>r231</td>\n",
       "      <td>51.998</td>\n",
       "      <td>6.0</td>\n",
       "      <td>14:44:39</td>\n",
       "      <td>5.7</td>\n",
       "      <td>2000</td>\n",
       "      <td>2000</td>\n",
       "      <td>2000</td>\n",
       "      <td>NaN</td>\n",
       "    </tr>\n",
       "    <tr>\n",
       "      <td>11</td>\n",
       "      <td>r231-140131-144430</td>\n",
       "      <td>r231-140131-144430-0007_.jpg</td>\n",
       "      <td>r231</td>\n",
       "      <td>51.996</td>\n",
       "      <td>7.0</td>\n",
       "      <td>14:44:40</td>\n",
       "      <td>10.2</td>\n",
       "      <td>2000</td>\n",
       "      <td>2000</td>\n",
       "      <td>2000</td>\n",
       "      <td>NaN</td>\n",
       "    </tr>\n",
       "  </tbody>\n",
       "</table>\n",
       "</div>"
      ],
      "text/plain": [
       "            Unnamed: 0                       画像ファイル名    路線      KP  経過時間（秒）  \\\n",
       "5   r231-140131-144430  r231-140131-144430-0001_.jpg  r231      52      1.0   \n",
       "6   r231-140131-144430  r231-140131-144430-0002_.jpg  r231      52      2.0   \n",
       "7   r231-140131-144430  r231-140131-144430-0003_.jpg  r231      52      3.0   \n",
       "8   r231-140131-144430  r231-140131-144430-0004_.jpg  r231      52      4.0   \n",
       "9   r231-140131-144430  r231-140131-144430-0005_.jpg  r231      52      5.0   \n",
       "10  r231-140131-144430  r231-140131-144430-0006_.jpg  r231  51.998      6.0   \n",
       "11  r231-140131-144430  r231-140131-144430-0007_.jpg  r231  51.996      7.0   \n",
       "\n",
       "         時分秒    速度    視程 Unnamed: 8 Unnamed: 9 視程ランク  \n",
       "5   14:44:34     0  2000       2000       2000   NaN  \n",
       "6   14:44:35     0  2000       2000       2000   NaN  \n",
       "7   14:44:36     0  2000       2000       2000   NaN  \n",
       "8   14:44:37     0  2000       2000       2000   NaN  \n",
       "9   14:44:38     0  2000       2000       2000   NaN  \n",
       "10  14:44:39   5.7  2000       2000       2000   NaN  \n",
       "11  14:44:40  10.2  2000       2000       2000   NaN  "
      ]
     },
     "execution_count": 184,
     "metadata": {},
     "output_type": "execute_result"
    }
   ],
   "source": [
    "df.head(7)"
   ]
  },
  {
   "cell_type": "code",
   "execution_count": 185,
   "metadata": {},
   "outputs": [],
   "source": [
    "df.rename(columns={'Unnamed: 0': 'image_info',\n",
    "                               '画像ファイル名': 'image_name',\n",
    "                               '路線': 'lane_no',\n",
    "                               'KP': 'kp',\n",
    "                               '経過時間（秒）': 'elapsed_time',\n",
    "                               '時分秒': 'minutes_seconds',\n",
    "                               '速度': 'speed',\n",
    "                               '視程': 'visibility',\n",
    "                               'Unnamed: 8': 'average',\n",
    "                               'Unnamed: 9': 'mediun',\n",
    "                               '視程ランク': 'visibility_rank'\n",
    "                               },\n",
    "                      inplace=True)"
   ]
  },
  {
   "cell_type": "code",
   "execution_count": 186,
   "metadata": {},
   "outputs": [
    {
     "data": {
      "text/html": [
       "<div>\n",
       "<style scoped>\n",
       "    .dataframe tbody tr th:only-of-type {\n",
       "        vertical-align: middle;\n",
       "    }\n",
       "\n",
       "    .dataframe tbody tr th {\n",
       "        vertical-align: top;\n",
       "    }\n",
       "\n",
       "    .dataframe thead th {\n",
       "        text-align: right;\n",
       "    }\n",
       "</style>\n",
       "<table border=\"1\" class=\"dataframe\">\n",
       "  <thead>\n",
       "    <tr style=\"text-align: right;\">\n",
       "      <th></th>\n",
       "      <th>image_info</th>\n",
       "      <th>image_name</th>\n",
       "      <th>lane_no</th>\n",
       "      <th>kp</th>\n",
       "      <th>elapsed_time</th>\n",
       "      <th>minutes_seconds</th>\n",
       "      <th>speed</th>\n",
       "      <th>visibility</th>\n",
       "      <th>average</th>\n",
       "      <th>mediun</th>\n",
       "      <th>visibility_rank</th>\n",
       "    </tr>\n",
       "  </thead>\n",
       "  <tbody>\n",
       "    <tr>\n",
       "      <td>5</td>\n",
       "      <td>r231-140131-144430</td>\n",
       "      <td>r231-140131-144430-0001_.jpg</td>\n",
       "      <td>r231</td>\n",
       "      <td>52</td>\n",
       "      <td>1.0</td>\n",
       "      <td>14:44:34</td>\n",
       "      <td>0</td>\n",
       "      <td>2000</td>\n",
       "      <td>2000</td>\n",
       "      <td>2000</td>\n",
       "      <td>NaN</td>\n",
       "    </tr>\n",
       "    <tr>\n",
       "      <td>6</td>\n",
       "      <td>r231-140131-144430</td>\n",
       "      <td>r231-140131-144430-0002_.jpg</td>\n",
       "      <td>r231</td>\n",
       "      <td>52</td>\n",
       "      <td>2.0</td>\n",
       "      <td>14:44:35</td>\n",
       "      <td>0</td>\n",
       "      <td>2000</td>\n",
       "      <td>2000</td>\n",
       "      <td>2000</td>\n",
       "      <td>NaN</td>\n",
       "    </tr>\n",
       "    <tr>\n",
       "      <td>7</td>\n",
       "      <td>r231-140131-144430</td>\n",
       "      <td>r231-140131-144430-0003_.jpg</td>\n",
       "      <td>r231</td>\n",
       "      <td>52</td>\n",
       "      <td>3.0</td>\n",
       "      <td>14:44:36</td>\n",
       "      <td>0</td>\n",
       "      <td>2000</td>\n",
       "      <td>2000</td>\n",
       "      <td>2000</td>\n",
       "      <td>NaN</td>\n",
       "    </tr>\n",
       "    <tr>\n",
       "      <td>8</td>\n",
       "      <td>r231-140131-144430</td>\n",
       "      <td>r231-140131-144430-0004_.jpg</td>\n",
       "      <td>r231</td>\n",
       "      <td>52</td>\n",
       "      <td>4.0</td>\n",
       "      <td>14:44:37</td>\n",
       "      <td>0</td>\n",
       "      <td>2000</td>\n",
       "      <td>2000</td>\n",
       "      <td>2000</td>\n",
       "      <td>NaN</td>\n",
       "    </tr>\n",
       "    <tr>\n",
       "      <td>9</td>\n",
       "      <td>r231-140131-144430</td>\n",
       "      <td>r231-140131-144430-0005_.jpg</td>\n",
       "      <td>r231</td>\n",
       "      <td>52</td>\n",
       "      <td>5.0</td>\n",
       "      <td>14:44:38</td>\n",
       "      <td>0</td>\n",
       "      <td>2000</td>\n",
       "      <td>2000</td>\n",
       "      <td>2000</td>\n",
       "      <td>NaN</td>\n",
       "    </tr>\n",
       "    <tr>\n",
       "      <td>10</td>\n",
       "      <td>r231-140131-144430</td>\n",
       "      <td>r231-140131-144430-0006_.jpg</td>\n",
       "      <td>r231</td>\n",
       "      <td>51.998</td>\n",
       "      <td>6.0</td>\n",
       "      <td>14:44:39</td>\n",
       "      <td>5.7</td>\n",
       "      <td>2000</td>\n",
       "      <td>2000</td>\n",
       "      <td>2000</td>\n",
       "      <td>NaN</td>\n",
       "    </tr>\n",
       "    <tr>\n",
       "      <td>11</td>\n",
       "      <td>r231-140131-144430</td>\n",
       "      <td>r231-140131-144430-0007_.jpg</td>\n",
       "      <td>r231</td>\n",
       "      <td>51.996</td>\n",
       "      <td>7.0</td>\n",
       "      <td>14:44:40</td>\n",
       "      <td>10.2</td>\n",
       "      <td>2000</td>\n",
       "      <td>2000</td>\n",
       "      <td>2000</td>\n",
       "      <td>NaN</td>\n",
       "    </tr>\n",
       "    <tr>\n",
       "      <td>12</td>\n",
       "      <td>r231-140131-144430</td>\n",
       "      <td>r231-140131-144430-0008_.jpg</td>\n",
       "      <td>r231</td>\n",
       "      <td>51.992</td>\n",
       "      <td>8.0</td>\n",
       "      <td>14:44:41</td>\n",
       "      <td>10.9</td>\n",
       "      <td>2000</td>\n",
       "      <td>2000</td>\n",
       "      <td>2000</td>\n",
       "      <td>NaN</td>\n",
       "    </tr>\n",
       "    <tr>\n",
       "      <td>13</td>\n",
       "      <td>r231-140131-144430</td>\n",
       "      <td>r231-140131-144430-0009_.jpg</td>\n",
       "      <td>r231</td>\n",
       "      <td>51.989</td>\n",
       "      <td>9.0</td>\n",
       "      <td>14:44:42</td>\n",
       "      <td>13.3</td>\n",
       "      <td>2000</td>\n",
       "      <td>2000</td>\n",
       "      <td>2000</td>\n",
       "      <td>NaN</td>\n",
       "    </tr>\n",
       "    <tr>\n",
       "      <td>14</td>\n",
       "      <td>r231-140131-144430</td>\n",
       "      <td>r231-140131-144430-0010_.jpg</td>\n",
       "      <td>r231</td>\n",
       "      <td>51.983</td>\n",
       "      <td>10.0</td>\n",
       "      <td>14:44:43</td>\n",
       "      <td>18.5</td>\n",
       "      <td>2000</td>\n",
       "      <td>2000</td>\n",
       "      <td>2000</td>\n",
       "      <td>NaN</td>\n",
       "    </tr>\n",
       "  </tbody>\n",
       "</table>\n",
       "</div>"
      ],
      "text/plain": [
       "            image_info                    image_name lane_no      kp  \\\n",
       "5   r231-140131-144430  r231-140131-144430-0001_.jpg    r231      52   \n",
       "6   r231-140131-144430  r231-140131-144430-0002_.jpg    r231      52   \n",
       "7   r231-140131-144430  r231-140131-144430-0003_.jpg    r231      52   \n",
       "8   r231-140131-144430  r231-140131-144430-0004_.jpg    r231      52   \n",
       "9   r231-140131-144430  r231-140131-144430-0005_.jpg    r231      52   \n",
       "10  r231-140131-144430  r231-140131-144430-0006_.jpg    r231  51.998   \n",
       "11  r231-140131-144430  r231-140131-144430-0007_.jpg    r231  51.996   \n",
       "12  r231-140131-144430  r231-140131-144430-0008_.jpg    r231  51.992   \n",
       "13  r231-140131-144430  r231-140131-144430-0009_.jpg    r231  51.989   \n",
       "14  r231-140131-144430  r231-140131-144430-0010_.jpg    r231  51.983   \n",
       "\n",
       "    elapsed_time minutes_seconds speed visibility average mediun  \\\n",
       "5            1.0        14:44:34     0       2000    2000   2000   \n",
       "6            2.0        14:44:35     0       2000    2000   2000   \n",
       "7            3.0        14:44:36     0       2000    2000   2000   \n",
       "8            4.0        14:44:37     0       2000    2000   2000   \n",
       "9            5.0        14:44:38     0       2000    2000   2000   \n",
       "10           6.0        14:44:39   5.7       2000    2000   2000   \n",
       "11           7.0        14:44:40  10.2       2000    2000   2000   \n",
       "12           8.0        14:44:41  10.9       2000    2000   2000   \n",
       "13           9.0        14:44:42  13.3       2000    2000   2000   \n",
       "14          10.0        14:44:43  18.5       2000    2000   2000   \n",
       "\n",
       "   visibility_rank  \n",
       "5              NaN  \n",
       "6              NaN  \n",
       "7              NaN  \n",
       "8              NaN  \n",
       "9              NaN  \n",
       "10             NaN  \n",
       "11             NaN  \n",
       "12             NaN  \n",
       "13             NaN  \n",
       "14             NaN  "
      ]
     },
     "execution_count": 186,
     "metadata": {},
     "output_type": "execute_result"
    }
   ],
   "source": [
    "df.head(10)"
   ]
  },
  {
   "cell_type": "code",
   "execution_count": 188,
   "metadata": {},
   "outputs": [
    {
     "data": {
      "text/plain": [
       "Index(['image_info', 'image_name', 'lane_no', 'kp', 'elapsed_time',\n",
       "       'minutes_seconds', 'speed', 'visibility', 'average', 'mediun',\n",
       "       'visibility_rank'],\n",
       "      dtype='object')"
      ]
     },
     "execution_count": 188,
     "metadata": {},
     "output_type": "execute_result"
    }
   ],
   "source": [
    "df.columns"
   ]
  },
  {
   "cell_type": "code",
   "execution_count": 190,
   "metadata": {},
   "outputs": [
    {
     "data": {
      "text/plain": [
       "5     NaN\n",
       "6     NaN\n",
       "7     NaN\n",
       "8     NaN\n",
       "9     NaN\n",
       "10    NaN\n",
       "11    NaN\n",
       "12    NaN\n",
       "13    NaN\n",
       "14    NaN\n",
       "15    NaN\n",
       "16      A\n",
       "17      A\n",
       "18      A\n",
       "19      A\n",
       "20      A\n",
       "21      A\n",
       "22      A\n",
       "23      A\n",
       "24      A\n",
       "Name: visibility_rank, dtype: object"
      ]
     },
     "execution_count": 190,
     "metadata": {},
     "output_type": "execute_result"
    }
   ],
   "source": [
    "df['visibility_rank'].head(20)"
   ]
  },
  {
   "cell_type": "code",
   "execution_count": 191,
   "metadata": {},
   "outputs": [
    {
     "data": {
      "text/plain": [
       "pandas.core.frame.DataFrame"
      ]
     },
     "execution_count": 191,
     "metadata": {},
     "output_type": "execute_result"
    }
   ],
   "source": [
    "type(df)"
   ]
  },
  {
   "cell_type": "code",
   "execution_count": 192,
   "metadata": {},
   "outputs": [
    {
     "data": {
      "text/plain": [
       "image_info          object\n",
       "image_name          object\n",
       "lane_no             object\n",
       "kp                  object\n",
       "elapsed_time       float64\n",
       "minutes_seconds     object\n",
       "speed               object\n",
       "visibility          object\n",
       "average             object\n",
       "mediun              object\n",
       "visibility_rank     object\n",
       "dtype: object"
      ]
     },
     "execution_count": 192,
     "metadata": {},
     "output_type": "execute_result"
    }
   ],
   "source": [
    "df.dtypes"
   ]
  },
  {
   "cell_type": "code",
   "execution_count": 193,
   "metadata": {},
   "outputs": [],
   "source": [
    "df.drop(['image_info', 'image_name', 'lane_no'], axis=1, inplace=True)"
   ]
  },
  {
   "cell_type": "code",
   "execution_count": 194,
   "metadata": {},
   "outputs": [
    {
     "data": {
      "text/plain": [
       "kp                  object\n",
       "elapsed_time       float64\n",
       "minutes_seconds     object\n",
       "speed               object\n",
       "visibility          object\n",
       "average             object\n",
       "mediun              object\n",
       "visibility_rank     object\n",
       "dtype: object"
      ]
     },
     "execution_count": 194,
     "metadata": {},
     "output_type": "execute_result"
    }
   ],
   "source": [
    "df.dtypes"
   ]
  },
  {
   "cell_type": "code",
   "execution_count": 195,
   "metadata": {},
   "outputs": [],
   "source": [
    "df['kp'] = pd.to_numeric(df['kp'])"
   ]
  },
  {
   "cell_type": "code",
   "execution_count": 196,
   "metadata": {},
   "outputs": [],
   "source": [
    "df['minutes_seconds'] = df['minutes_seconds'].astype('str') "
   ]
  },
  {
   "cell_type": "code",
   "execution_count": 197,
   "metadata": {},
   "outputs": [],
   "source": [
    "df['minutes_seconds'] = df['minutes_seconds'].str.split(':').apply(lambda x: int(x[0]) * 60 + int(x[1]))"
   ]
  },
  {
   "cell_type": "code",
   "execution_count": 198,
   "metadata": {},
   "outputs": [],
   "source": [
    "df['minutes_seconds'] = pd.to_numeric(df['minutes_seconds'])"
   ]
  },
  {
   "cell_type": "code",
   "execution_count": 199,
   "metadata": {},
   "outputs": [],
   "source": [
    "df['speed'] = pd.to_numeric(df['speed'])"
   ]
  },
  {
   "cell_type": "code",
   "execution_count": 200,
   "metadata": {},
   "outputs": [],
   "source": [
    "df['visibility'] = pd.to_numeric(df['visibility'])"
   ]
  },
  {
   "cell_type": "code",
   "execution_count": 201,
   "metadata": {},
   "outputs": [],
   "source": [
    "df['average'] = pd.to_numeric(df['average'])"
   ]
  },
  {
   "cell_type": "code",
   "execution_count": 202,
   "metadata": {},
   "outputs": [],
   "source": [
    "df['mediun'] = pd.to_numeric(df['mediun'])"
   ]
  },
  {
   "cell_type": "code",
   "execution_count": 203,
   "metadata": {},
   "outputs": [
    {
     "data": {
      "text/plain": [
       "5    884\n",
       "6    884\n",
       "7    884\n",
       "8    884\n",
       "9    884\n",
       "Name: minutes_seconds, dtype: int64"
      ]
     },
     "execution_count": 203,
     "metadata": {},
     "output_type": "execute_result"
    }
   ],
   "source": [
    "df['minutes_seconds'].head()"
   ]
  },
  {
   "cell_type": "code",
   "execution_count": 204,
   "metadata": {},
   "outputs": [
    {
     "data": {
      "text/plain": [
       "5     0\n",
       "6     0\n",
       "7     0\n",
       "8     0\n",
       "9     0\n",
       "10    0\n",
       "11    0\n",
       "12    0\n",
       "13    0\n",
       "14    0\n",
       "Name: visibility_rank, dtype: uint8"
      ]
     },
     "execution_count": 204,
     "metadata": {},
     "output_type": "execute_result"
    }
   ],
   "source": [
    "df['visibility_rank'] = pd.get_dummies(df['visibility_rank'])\n",
    "df['visibility_rank'].head(10)"
   ]
  },
  {
   "cell_type": "code",
   "execution_count": 205,
   "metadata": {},
   "outputs": [
    {
     "data": {
      "text/plain": [
       "kp                 float64\n",
       "elapsed_time       float64\n",
       "minutes_seconds      int64\n",
       "speed              float64\n",
       "visibility           int64\n",
       "average            float64\n",
       "mediun             float64\n",
       "visibility_rank      uint8\n",
       "dtype: object"
      ]
     },
     "execution_count": 205,
     "metadata": {},
     "output_type": "execute_result"
    }
   ],
   "source": [
    "df.dtypes"
   ]
  },
  {
   "cell_type": "code",
   "execution_count": 208,
   "metadata": {},
   "outputs": [
    {
     "data": {
      "text/html": [
       "<div>\n",
       "<style scoped>\n",
       "    .dataframe tbody tr th:only-of-type {\n",
       "        vertical-align: middle;\n",
       "    }\n",
       "\n",
       "    .dataframe tbody tr th {\n",
       "        vertical-align: top;\n",
       "    }\n",
       "\n",
       "    .dataframe thead th {\n",
       "        text-align: right;\n",
       "    }\n",
       "</style>\n",
       "<table border=\"1\" class=\"dataframe\">\n",
       "  <thead>\n",
       "    <tr style=\"text-align: right;\">\n",
       "      <th></th>\n",
       "      <th>kp</th>\n",
       "      <th>elapsed_time</th>\n",
       "      <th>minutes_seconds</th>\n",
       "      <th>speed</th>\n",
       "      <th>visibility</th>\n",
       "      <th>average</th>\n",
       "      <th>mediun</th>\n",
       "      <th>visibility_rank</th>\n",
       "    </tr>\n",
       "  </thead>\n",
       "  <tbody>\n",
       "    <tr>\n",
       "      <td>5</td>\n",
       "      <td>52.000</td>\n",
       "      <td>1.0</td>\n",
       "      <td>884</td>\n",
       "      <td>0.0</td>\n",
       "      <td>2000</td>\n",
       "      <td>2000.0</td>\n",
       "      <td>2000.0</td>\n",
       "      <td>0</td>\n",
       "    </tr>\n",
       "    <tr>\n",
       "      <td>6</td>\n",
       "      <td>52.000</td>\n",
       "      <td>2.0</td>\n",
       "      <td>884</td>\n",
       "      <td>0.0</td>\n",
       "      <td>2000</td>\n",
       "      <td>2000.0</td>\n",
       "      <td>2000.0</td>\n",
       "      <td>0</td>\n",
       "    </tr>\n",
       "    <tr>\n",
       "      <td>7</td>\n",
       "      <td>52.000</td>\n",
       "      <td>3.0</td>\n",
       "      <td>884</td>\n",
       "      <td>0.0</td>\n",
       "      <td>2000</td>\n",
       "      <td>2000.0</td>\n",
       "      <td>2000.0</td>\n",
       "      <td>0</td>\n",
       "    </tr>\n",
       "    <tr>\n",
       "      <td>8</td>\n",
       "      <td>52.000</td>\n",
       "      <td>4.0</td>\n",
       "      <td>884</td>\n",
       "      <td>0.0</td>\n",
       "      <td>2000</td>\n",
       "      <td>2000.0</td>\n",
       "      <td>2000.0</td>\n",
       "      <td>0</td>\n",
       "    </tr>\n",
       "    <tr>\n",
       "      <td>9</td>\n",
       "      <td>52.000</td>\n",
       "      <td>5.0</td>\n",
       "      <td>884</td>\n",
       "      <td>0.0</td>\n",
       "      <td>2000</td>\n",
       "      <td>2000.0</td>\n",
       "      <td>2000.0</td>\n",
       "      <td>0</td>\n",
       "    </tr>\n",
       "    <tr>\n",
       "      <td>...</td>\n",
       "      <td>...</td>\n",
       "      <td>...</td>\n",
       "      <td>...</td>\n",
       "      <td>...</td>\n",
       "      <td>...</td>\n",
       "      <td>...</td>\n",
       "      <td>...</td>\n",
       "      <td>...</td>\n",
       "    </tr>\n",
       "    <tr>\n",
       "      <td>100</td>\n",
       "      <td>50.848</td>\n",
       "      <td>96.0</td>\n",
       "      <td>886</td>\n",
       "      <td>58.9</td>\n",
       "      <td>2000</td>\n",
       "      <td>2000.0</td>\n",
       "      <td>2000.0</td>\n",
       "      <td>1</td>\n",
       "    </tr>\n",
       "    <tr>\n",
       "      <td>101</td>\n",
       "      <td>50.831</td>\n",
       "      <td>97.0</td>\n",
       "      <td>886</td>\n",
       "      <td>58.7</td>\n",
       "      <td>2000</td>\n",
       "      <td>2000.0</td>\n",
       "      <td>2000.0</td>\n",
       "      <td>1</td>\n",
       "    </tr>\n",
       "    <tr>\n",
       "      <td>102</td>\n",
       "      <td>50.815</td>\n",
       "      <td>98.0</td>\n",
       "      <td>886</td>\n",
       "      <td>58.0</td>\n",
       "      <td>2000</td>\n",
       "      <td>2000.0</td>\n",
       "      <td>2000.0</td>\n",
       "      <td>1</td>\n",
       "    </tr>\n",
       "    <tr>\n",
       "      <td>103</td>\n",
       "      <td>50.799</td>\n",
       "      <td>99.0</td>\n",
       "      <td>886</td>\n",
       "      <td>56.3</td>\n",
       "      <td>2000</td>\n",
       "      <td>2000.0</td>\n",
       "      <td>2000.0</td>\n",
       "      <td>1</td>\n",
       "    </tr>\n",
       "    <tr>\n",
       "      <td>104</td>\n",
       "      <td>50.783</td>\n",
       "      <td>100.0</td>\n",
       "      <td>886</td>\n",
       "      <td>56.1</td>\n",
       "      <td>2000</td>\n",
       "      <td>2000.0</td>\n",
       "      <td>2000.0</td>\n",
       "      <td>1</td>\n",
       "    </tr>\n",
       "  </tbody>\n",
       "</table>\n",
       "<p>100 rows × 8 columns</p>\n",
       "</div>"
      ],
      "text/plain": [
       "         kp  elapsed_time  minutes_seconds  speed  visibility  average  \\\n",
       "5    52.000           1.0              884    0.0        2000   2000.0   \n",
       "6    52.000           2.0              884    0.0        2000   2000.0   \n",
       "7    52.000           3.0              884    0.0        2000   2000.0   \n",
       "8    52.000           4.0              884    0.0        2000   2000.0   \n",
       "9    52.000           5.0              884    0.0        2000   2000.0   \n",
       "..      ...           ...              ...    ...         ...      ...   \n",
       "100  50.848          96.0              886   58.9        2000   2000.0   \n",
       "101  50.831          97.0              886   58.7        2000   2000.0   \n",
       "102  50.815          98.0              886   58.0        2000   2000.0   \n",
       "103  50.799          99.0              886   56.3        2000   2000.0   \n",
       "104  50.783         100.0              886   56.1        2000   2000.0   \n",
       "\n",
       "     mediun  visibility_rank  \n",
       "5    2000.0                0  \n",
       "6    2000.0                0  \n",
       "7    2000.0                0  \n",
       "8    2000.0                0  \n",
       "9    2000.0                0  \n",
       "..      ...              ...  \n",
       "100  2000.0                1  \n",
       "101  2000.0                1  \n",
       "102  2000.0                1  \n",
       "103  2000.0                1  \n",
       "104  2000.0                1  \n",
       "\n",
       "[100 rows x 8 columns]"
      ]
     },
     "execution_count": 208,
     "metadata": {},
     "output_type": "execute_result"
    }
   ],
   "source": [
    "df.head(100)"
   ]
  },
  {
   "cell_type": "code",
   "execution_count": 210,
   "metadata": {},
   "outputs": [
    {
     "data": {
      "text/plain": [
       "mediun             161\n",
       "average            161\n",
       "visibility_rank      0\n",
       "visibility           0\n",
       "speed                0\n",
       "dtype: int64"
      ]
     },
     "execution_count": 210,
     "metadata": {},
     "output_type": "execute_result"
    }
   ],
   "source": [
    "# How much of your data is missing ? \n",
    "df.isnull().sum().sort_values(ascending=False).head()"
   ]
  },
  {
   "cell_type": "code",
   "execution_count": 211,
   "metadata": {},
   "outputs": [],
   "source": [
    "from sklearn.preprocessing import Imputer"
   ]
  },
  {
   "cell_type": "code",
   "execution_count": 212,
   "metadata": {},
   "outputs": [
    {
     "name": "stderr",
     "output_type": "stream",
     "text": [
      "C:\\Users\\sadma\\Anaconda3\\lib\\site-packages\\sklearn\\utils\\deprecation.py:66: DeprecationWarning: Class Imputer is deprecated; Imputer was deprecated in version 0.20 and will be removed in 0.22. Import impute.SimpleImputer from sklearn instead.\n",
      "  warnings.warn(msg, category=DeprecationWarning)\n"
     ]
    }
   ],
   "source": [
    "imp = Imputer(missing_values='NaN', strategy='median', axis=0)"
   ]
  },
  {
   "cell_type": "code",
   "execution_count": 213,
   "metadata": {},
   "outputs": [
    {
     "data": {
      "text/plain": [
       "Imputer(axis=0, copy=True, missing_values='NaN', strategy='median', verbose=0)"
      ]
     },
     "execution_count": 213,
     "metadata": {},
     "output_type": "execute_result"
    }
   ],
   "source": [
    "imp.fit(df)"
   ]
  },
  {
   "cell_type": "code",
   "execution_count": 214,
   "metadata": {},
   "outputs": [],
   "source": [
    "df = pd.DataFrame(data=imp.transform(df), columns=df.columns)"
   ]
  },
  {
   "cell_type": "code",
   "execution_count": 215,
   "metadata": {},
   "outputs": [
    {
     "data": {
      "text/plain": [
       "visibility_rank    0\n",
       "mediun             0\n",
       "average            0\n",
       "visibility         0\n",
       "speed              0\n",
       "dtype: int64"
      ]
     },
     "execution_count": 215,
     "metadata": {},
     "output_type": "execute_result"
    }
   ],
   "source": [
    "df.isnull().sum().sort_values(ascending=False).head()"
   ]
  },
  {
   "cell_type": "code",
   "execution_count": 36,
   "metadata": {},
   "outputs": [],
   "source": []
  },
  {
   "cell_type": "code",
   "execution_count": 37,
   "metadata": {},
   "outputs": [
    {
     "name": "stdout",
     "output_type": "stream",
     "text": [
      "[]\n"
     ]
    }
   ],
   "source": [
    "\n",
    "    "
   ]
  },
  {
   "cell_type": "code",
   "execution_count": null,
   "metadata": {},
   "outputs": [],
   "source": []
  },
  {
   "cell_type": "code",
   "execution_count": null,
   "metadata": {},
   "outputs": [],
   "source": []
  }
 ],
 "metadata": {
  "kernelspec": {
   "display_name": "Python 3",
   "language": "python",
   "name": "python3"
  },
  "language_info": {
   "codemirror_mode": {
    "name": "ipython",
    "version": 3
   },
   "file_extension": ".py",
   "mimetype": "text/x-python",
   "name": "python",
   "nbconvert_exporter": "python",
   "pygments_lexer": "ipython3",
   "version": "3.7.4"
  },
  "toc": {
   "base_numbering": 1,
   "nav_menu": {},
   "number_sections": true,
   "sideBar": true,
   "skip_h1_title": false,
   "title_cell": "Table of Contents",
   "title_sidebar": "Contents",
   "toc_cell": false,
   "toc_position": {},
   "toc_section_display": true,
   "toc_window_display": false
  }
 },
 "nbformat": 4,
 "nbformat_minor": 2
}
