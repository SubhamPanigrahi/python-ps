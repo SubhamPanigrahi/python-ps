{
 "cells": [
  {
   "cell_type": "markdown",
   "metadata": {
    "toc": true
   },
   "source": [
    "<h1>Table of Contents<span class=\"tocSkip\"></span></h1>\n",
    "<div class=\"toc\"><ul class=\"toc-item\"><li><span><a href=\"#Count-the-uppercase-letters-in-a-string-with-Python\" data-toc-modified-id=\"Count-the-uppercase-letters-in-a-string-with-Python-1\"><span class=\"toc-item-num\">1&nbsp;&nbsp;</span>Count the uppercase letters in a string with Python</a></span></li><li><span><a href=\"#Generating-the-Matrix\" data-toc-modified-id=\"Generating-the-Matrix-2\"><span class=\"toc-item-num\">2&nbsp;&nbsp;</span>Generating the Matrix</a></span></li><li><span><a href=\"#How-to-get-indices-of-N-maximum-values-in-a-NumPy-array?\" data-toc-modified-id=\"How-to-get-indices-of-N-maximum-values-in-a-NumPy-array?-3\"><span class=\"toc-item-num\">3&nbsp;&nbsp;</span>How to get indices of N maximum values in a NumPy array?</a></span></li><li><span><a href=\"#How-can-you-randomize-the-items-of-a-list-in-place-in-Python?\" data-toc-modified-id=\"How-can-you-randomize-the-items-of-a-list-in-place-in-Python?-4\"><span class=\"toc-item-num\">4&nbsp;&nbsp;</span>How can you randomize the items of a list in place in Python?</a></span></li><li><span><a href=\"#Write-a-sorting-algorithm-for-a-numerical-dataset-in-Python.\" data-toc-modified-id=\"Write-a-sorting-algorithm-for-a-numerical-dataset-in-Python.-5\"><span class=\"toc-item-num\">5&nbsp;&nbsp;</span>Write a sorting algorithm for a numerical dataset in Python.</a></span></li></ul></div>"
   ]
  },
  {
   "cell_type": "markdown",
   "metadata": {},
   "source": [
    "#####  Count the uppercase letters in a string with Python "
   ]
  },
  {
   "cell_type": "code",
   "execution_count": 2,
   "metadata": {},
   "outputs": [
    {
     "name": "stdout",
     "output_type": "stream",
     "text": [
      "Type word: DthhYY\n"
     ]
    }
   ],
   "source": [
    "message = input(\"Type word: \")"
   ]
  },
  {
   "cell_type": "code",
   "execution_count": 3,
   "metadata": {},
   "outputs": [
    {
     "name": "stdout",
     "output_type": "stream",
     "text": [
      "Capital Letters:  3\n"
     ]
    }
   ],
   "source": [
    "print(\"Capital Letters: \", sum(1 for c in message if c.isupper()))"
   ]
  },
  {
   "cell_type": "markdown",
   "metadata": {},
   "source": [
    "#####  Generating the Matrix "
   ]
  },
  {
   "cell_type": "code",
   "execution_count": 4,
   "metadata": {},
   "outputs": [
    {
     "data": {
      "text/plain": [
       "[[1, 2, 3], [2, 4, 6], [3, 6, 9]]"
      ]
     },
     "execution_count": 4,
     "metadata": {},
     "output_type": "execute_result"
    }
   ],
   "source": [
    "iterator = [i for i in range(1, 4)]\n",
    "matrix = [[x * y for y in iterator] for x in iterator]\n",
    "matrix"
   ]
  },
  {
   "cell_type": "markdown",
   "metadata": {},
   "source": [
    "##### How to get indices of N maximum values in a NumPy array?\n",
    "\n"
   ]
  },
  {
   "cell_type": "code",
   "execution_count": 7,
   "metadata": {},
   "outputs": [],
   "source": [
    "import numpy as np"
   ]
  },
  {
   "cell_type": "code",
   "execution_count": 9,
   "metadata": {},
   "outputs": [
    {
     "name": "stdout",
     "output_type": "stream",
     "text": [
      "[4 3 1]\n"
     ]
    }
   ],
   "source": [
    "arr = np.array([1,3,2,4,5])\n",
    "print(arr.argsort()[-3:][::-1])"
   ]
  },
  {
   "cell_type": "markdown",
   "metadata": {},
   "source": [
    "##### How can you randomize the items of a list in place in Python?"
   ]
  },
  {
   "cell_type": "code",
   "execution_count": 1,
   "metadata": {},
   "outputs": [
    {
     "name": "stdout",
     "output_type": "stream",
     "text": [
      "['The', 'Keep', 'Flag', 'Flying', 'Blue', 'High']\n"
     ]
    }
   ],
   "source": [
    "from random import shuffle\n",
    "x = ['Keep', 'The', 'Blue', 'Flag', 'Flying', 'High']\n",
    "shuffle(x)\n",
    "print(x)"
   ]
  },
  {
   "cell_type": "markdown",
   "metadata": {},
   "source": [
    "##### Write a sorting algorithm for a numerical dataset in Python."
   ]
  },
  {
   "cell_type": "code",
   "execution_count": 6,
   "metadata": {},
   "outputs": [
    {
     "name": "stdout",
     "output_type": "stream",
     "text": [
      "[0, 1, 4, 6, 9]\n"
     ]
    }
   ],
   "source": [
    "list = [\"1\", \"4\", \"0\", \"6\", \"9\"]\n",
    "list = [int(i) for i in list]\n",
    "list.sort()\n",
    "print (list)"
   ]
  },
  {
   "cell_type": "code",
   "execution_count": null,
   "metadata": {},
   "outputs": [],
   "source": []
  }
 ],
 "metadata": {
  "kernelspec": {
   "display_name": "Python 3",
   "language": "python",
   "name": "python3"
  },
  "language_info": {
   "codemirror_mode": {
    "name": "ipython",
    "version": 3
   },
   "file_extension": ".py",
   "mimetype": "text/x-python",
   "name": "python",
   "nbconvert_exporter": "python",
   "pygments_lexer": "ipython3",
   "version": "3.6.8"
  },
  "toc": {
   "base_numbering": 1,
   "nav_menu": {},
   "number_sections": true,
   "sideBar": true,
   "skip_h1_title": false,
   "title_cell": "Table of Contents",
   "title_sidebar": "Contents",
   "toc_cell": true,
   "toc_position": {},
   "toc_section_display": true,
   "toc_window_display": true
  }
 },
 "nbformat": 4,
 "nbformat_minor": 2
}
