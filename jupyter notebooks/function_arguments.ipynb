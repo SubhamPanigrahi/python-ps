{
 "cells": [
  {
   "cell_type": "markdown",
   "metadata": {},
   "source": [
    "#### functional arguments"
   ]
  },
  {
   "cell_type": "code",
   "execution_count": 28,
   "metadata": {},
   "outputs": [],
   "source": [
    "def myfucntion(name, message):\n",
    "    print(\"Hello {0}, {1}\".format(name, message))"
   ]
  },
  {
   "cell_type": "code",
   "execution_count": 29,
   "metadata": {},
   "outputs": [
    {
     "name": "stdout",
     "output_type": "stream",
     "text": [
      "Hello Soumik, Good Morning\n"
     ]
    }
   ],
   "source": [
    "myfucntion('Soumik', 'Good Morning')"
   ]
  },
  {
   "cell_type": "markdown",
   "metadata": {},
   "source": [
    "#### Keyword Arguments"
   ]
  },
  {
   "cell_type": "code",
   "execution_count": 30,
   "metadata": {},
   "outputs": [],
   "source": [
    "def func_keyword_argument(**kwargs):\n",
    "    if kwargs:\n",
    "        print(\"Hey {0}, {1}\".format(kwargs['name'], kwargs['message']))"
   ]
  },
  {
   "cell_type": "code",
   "execution_count": 31,
   "metadata": {},
   "outputs": [
    {
     "name": "stdout",
     "output_type": "stream",
     "text": [
      "Hey Soumik, Good Morning\n"
     ]
    }
   ],
   "source": [
    "func_keyword_argument(name = \"Soumik\", message = \"Good Morning\")"
   ]
  },
  {
   "cell_type": "code",
   "execution_count": 32,
   "metadata": {},
   "outputs": [],
   "source": [
    "def func_keyword_argument(**kwargs):\n",
    "    if kwargs:\n",
    "        print(\"Hey {0}, {1} \\n{2}\".format(kwargs['name'], kwargs['message'], kwargs['question']))"
   ]
  },
  {
   "cell_type": "code",
   "execution_count": 33,
   "metadata": {},
   "outputs": [
    {
     "name": "stdout",
     "output_type": "stream",
     "text": [
      "Hey Soumik, Good Evening! \n",
      "\n",
      "How are you?\n"
     ]
    }
   ],
   "source": [
    "func_keyword_argument(name = 'Soumik', message = 'Good Evening!', question = '\\nHow are you?')"
   ]
  },
  {
   "cell_type": "code",
   "execution_count": 34,
   "metadata": {},
   "outputs": [
    {
     "name": "stdout",
     "output_type": "stream",
     "text": [
      "ENTER A NAME :Soumik\n",
      "ENTER YOUR GREETING :Good Morning!\n",
      "ASK YOUR QUESTION :How's life going on?\n",
      "Hey Soumik, Good Morning! \n",
      "How's life going on?\n"
     ]
    }
   ],
   "source": [
    "func_keyword_argument(name = input('ENTER A NAME :'), \n",
    "                      message = input('ENTER YOUR GREETING :'), \n",
    "                      question = input('ASK YOUR QUESTION :'))"
   ]
  },
  {
   "cell_type": "markdown",
   "metadata": {},
   "source": [
    "#### Arbitary Arguments"
   ]
  },
  {
   "cell_type": "code",
   "execution_count": 42,
   "metadata": {},
   "outputs": [],
   "source": [
    "def func_hey(*names):\n",
    "    print(names)\n",
    "    for name in names:\n",
    "        print(\"Hey {0} \".format(name))"
   ]
  },
  {
   "cell_type": "code",
   "execution_count": 44,
   "metadata": {},
   "outputs": [
    {
     "name": "stdout",
     "output_type": "stream",
     "text": [
      "('Soumik', 'Sadman', 'Kabir', 'Ronaldo')\n",
      "Hey Soumik \n",
      "Hey Sadman \n",
      "Hey Kabir \n",
      "Hey Ronaldo \n"
     ]
    }
   ],
   "source": [
    "func_hey('Soumik', 'Sadman', 'Kabir', 'Ronaldo')"
   ]
  },
  {
   "cell_type": "code",
   "execution_count": null,
   "metadata": {},
   "outputs": [],
   "source": []
  },
  {
   "cell_type": "code",
   "execution_count": null,
   "metadata": {},
   "outputs": [],
   "source": []
  }
 ],
 "metadata": {
  "kernelspec": {
   "display_name": "Python 3",
   "language": "python",
   "name": "python3"
  },
  "language_info": {
   "codemirror_mode": {
    "name": "ipython",
    "version": 3
   },
   "file_extension": ".py",
   "mimetype": "text/x-python",
   "name": "python",
   "nbconvert_exporter": "python",
   "pygments_lexer": "ipython3",
   "version": "3.6.8"
  }
 },
 "nbformat": 4,
 "nbformat_minor": 2
}
