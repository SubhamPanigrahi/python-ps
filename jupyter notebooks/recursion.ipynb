{
 "cells": [
  {
   "cell_type": "markdown",
   "metadata": {
    "toc": true
   },
   "source": [
    "<h1>Contents<span class=\"tocSkip\"></span></h1>\n",
    "<div class=\"toc\"><ul class=\"toc-item\"><li><span><a href=\"#Reversing-a-Sequence-with-Recursion\" data-toc-modified-id=\"Reversing-a-Sequence-with-Recursion-1\"><span class=\"toc-item-num\">1&nbsp;&nbsp;</span>Reversing a Sequence with Recursion</a></span></li><li><span><a href=\"#Write-a-Python-program-to-calculate-the-value-of-'a'-to-the-power-'b'-using-recursion.\" data-toc-modified-id=\"Write-a-Python-program-to-calculate-the-value-of-'a'-to-the-power-'b'-using-recursion.-2\"><span class=\"toc-item-num\">2&nbsp;&nbsp;</span>Write a Python program to calculate the value of 'a' to the power 'b' using recursion.</a></span></li><li><span><a href=\"#Write-a-Python-program-to-solve-the-Fibonacci-sequence-using-recursion.\" data-toc-modified-id=\"Write-a-Python-program-to-solve-the-Fibonacci-sequence-using-recursion.-3\"><span class=\"toc-item-num\">3&nbsp;&nbsp;</span>Write a Python program to solve the Fibonacci sequence using recursion.</a></span></li><li><span><a href=\"#Write-a-Python-program-to-get-the-factorial-of-a-non-negative-integer.\" data-toc-modified-id=\"Write-a-Python-program-to-get-the-factorial-of-a-non-negative-integer.-4\"><span class=\"toc-item-num\">4&nbsp;&nbsp;</span>Write a Python program to get the factorial of a non-negative integer.</a></span></li><li><span><a href=\"#Write-a-Python-program-to-find-the-greatest-common-divisor-(gcd)-of-two-integers.\" data-toc-modified-id=\"Write-a-Python-program-to-find-the-greatest-common-divisor-(gcd)-of-two-integers.-5\"><span class=\"toc-item-num\">5&nbsp;&nbsp;</span>Write a Python program to find the greatest common divisor (gcd) of two integers.</a></span></li></ul></div>"
   ]
  },
  {
   "cell_type": "markdown",
   "metadata": {},
   "source": [
    "#### Reversing a Sequence with Recursion"
   ]
  },
  {
   "cell_type": "code",
   "execution_count": 5,
   "metadata": {},
   "outputs": [
    {
     "name": "stdout",
     "output_type": "stream",
     "text": [
      "Enter a string: soumik\n",
      "kimuos\n"
     ]
    }
   ],
   "source": [
    "def reverse(input_string):\n",
    "    if len(input_string)== 0:\n",
    "        return input_string\n",
    "    else:\n",
    "        return reverse(input_string[1:])+ input_string[0]\n",
    "        \n",
    "\n",
    "sample_string = str(input(\"Enter a string: \"))\n",
    "\n",
    "print(reverse(sample_string))"
   ]
  },
  {
   "cell_type": "code",
   "execution_count": 10,
   "metadata": {},
   "outputs": [
    {
     "name": "stdout",
     "output_type": "stream",
     "text": [
      "oumiks\n"
     ]
    }
   ],
   "source": [
    "# How the above recursion works\n",
    "x = \"soumik\"\n",
    "print(x[1:]+x[0])"
   ]
  },
  {
   "cell_type": "code",
   "execution_count": 11,
   "metadata": {},
   "outputs": [
    {
     "name": "stdout",
     "output_type": "stream",
     "text": [
      "Enter a string: 12345\n",
      "54321\n"
     ]
    }
   ],
   "source": [
    "def reverse(input_string):\n",
    "    if len(input_string)== 0:\n",
    "        return input_string\n",
    "    else:\n",
    "        return reverse(input_string[1:])+ input_string[0]\n",
    "        \n",
    "\n",
    "sample_string = str(input(\"Enter a string: \"))\n",
    "\n",
    "print(reverse(sample_string))"
   ]
  },
  {
   "cell_type": "code",
   "execution_count": 14,
   "metadata": {},
   "outputs": [
    {
     "name": "stdout",
     "output_type": "stream",
     "text": [
      "Enter a string: 12345\n",
      "54321\n"
     ]
    }
   ],
   "source": [
    "x = str(input(\"Enter a string: \"))\n",
    "print(x[::-1])"
   ]
  },
  {
   "cell_type": "markdown",
   "metadata": {},
   "source": [
    "#### Write a Python program to calculate the value of 'a' to the power 'b' using recursion."
   ]
  },
  {
   "cell_type": "code",
   "execution_count": 15,
   "metadata": {},
   "outputs": [
    {
     "name": "stdout",
     "output_type": "stream",
     "text": [
      "81\n"
     ]
    }
   ],
   "source": [
    "def power(a,b):\n",
    "    if b == 0:\n",
    "        return 1\n",
    "    elif a == 0:\n",
    "        return 0\n",
    "    elif b == 1:\n",
    "        return a\n",
    "    else:\n",
    "        return a*power(a,b-1)   # \n",
    "    \n",
    "\n",
    "print(power(3,4))"
   ]
  },
  {
   "cell_type": "markdown",
   "metadata": {},
   "source": [
    "####  Write a Python program to solve the Fibonacci sequence using recursion.\n"
   ]
  },
  {
   "cell_type": "code",
   "execution_count": 19,
   "metadata": {},
   "outputs": [
    {
     "name": "stdout",
     "output_type": "stream",
     "text": [
      "8\n",
      "-------------------------\n",
      "0\n",
      "1\n",
      "1\n",
      "2\n",
      "3\n",
      "5\n",
      "8\n",
      "13\n",
      "21\n",
      "34\n"
     ]
    }
   ],
   "source": [
    "def fibonacci(nth_number):\n",
    "    if nth_number == 0:\n",
    "        return 0\n",
    "    elif nth_number == 1:\n",
    "        return 1\n",
    "    else:\n",
    "        return fibonacci(nth_number - 1)+ fibonacci(nth_number - 2)\n",
    "    \n",
    "\n",
    "print(fibonacci(6)) # n'th fibonacci number\n",
    "\n",
    "print(\"-------------------------\")\n",
    "for i in range(10):\n",
    "    print(fibonacci(i))   # all fibonacci number upto 10\n",
    "    "
   ]
  },
  {
   "cell_type": "markdown",
   "metadata": {},
   "source": [
    "#### Write a Python program to get the factorial of a non-negative integer. "
   ]
  },
  {
   "cell_type": "code",
   "execution_count": 25,
   "metadata": {},
   "outputs": [
    {
     "name": "stdout",
     "output_type": "stream",
     "text": [
      "120\n"
     ]
    }
   ],
   "source": [
    "def factorial(n):\n",
    "    if n <= 1:\n",
    "        return 1\n",
    "    else:\n",
    "        return n*factorial(n-1)\n",
    "        \n",
    "        \n",
    "print(factorial(5))"
   ]
  },
  {
   "cell_type": "markdown",
   "metadata": {},
   "source": [
    "#### Write a Python program to find the greatest common divisor (gcd) of two integers."
   ]
  },
  {
   "cell_type": "code",
   "execution_count": null,
   "metadata": {},
   "outputs": [],
   "source": []
  }
 ],
 "metadata": {
  "kernelspec": {
   "display_name": "Python 3",
   "language": "python",
   "name": "python3"
  },
  "language_info": {
   "codemirror_mode": {
    "name": "ipython",
    "version": 3
   },
   "file_extension": ".py",
   "mimetype": "text/x-python",
   "name": "python",
   "nbconvert_exporter": "python",
   "pygments_lexer": "ipython3",
   "version": "3.6.8"
  },
  "toc": {
   "base_numbering": 1.0,
   "nav_menu": {},
   "number_sections": true,
   "sideBar": true,
   "skip_h1_title": false,
   "title_cell": "Contents",
   "title_sidebar": "Contents",
   "toc_cell": true,
   "toc_position": {},
   "toc_section_display": true,
   "toc_window_display": false
  }
 },
 "nbformat": 4,
 "nbformat_minor": 2
}
