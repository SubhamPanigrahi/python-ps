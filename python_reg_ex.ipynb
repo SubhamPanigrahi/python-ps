{
 "cells": [
  {
   "cell_type": "markdown",
   "metadata": {
    "toc": true
   },
   "source": [
    "<h1>Table of Contents<span class=\"tocSkip\"></span></h1>\n",
    "<div class=\"toc\"><ul class=\"toc-item\"><li><span><a href=\"#Python-Regular-Expressions\" data-toc-modified-id=\"Python-Regular-Expressions-1\"><span class=\"toc-item-num\">1&nbsp;&nbsp;</span>Python Regular Expressions</a></span></li><li><span><a href=\"#\\A-:Returns-a-match-if-the-specified-characters-are-at-the-beginning-of-the-string\" data-toc-modified-id=\"\\A-:Returns-a-match-if-the-specified-characters-are-at-the-beginning-of-the-string-2\"><span class=\"toc-item-num\">2&nbsp;&nbsp;</span>\\A :Returns a match if the specified characters are at the beginning of the string</a></span></li><li><span><a href=\"#\\b-:-----Returns-a-match-where-the-specified-characters-are-at-the-beginning-or-at-the-end-of-a-word\" data-toc-modified-id=\"\\b-:-----Returns-a-match-where-the-specified-characters-are-at-the-beginning-or-at-the-end-of-a-word-3\"><span class=\"toc-item-num\">3&nbsp;&nbsp;</span>\\b :     Returns a match where the specified characters are at the beginning or at the end of a word</a></span></li><li><span><a href=\"#\\B-----Returns-a-match-where-the-specified-characters-are-present,-but-NOT-at-the-beginning-(or-at-the-end)-of-a-word\" data-toc-modified-id=\"\\B-----Returns-a-match-where-the-specified-characters-are-present,-but-NOT-at-the-beginning-(or-at-the-end)-of-a-word-4\"><span class=\"toc-item-num\">4&nbsp;&nbsp;</span>\\B     Returns a match where the specified characters are present, but NOT at the beginning (or at the end) of a word</a></span></li><li><span><a href=\"#[]-----A-set-of-characters\" data-toc-modified-id=\"[]-----A-set-of-characters-5\"><span class=\"toc-item-num\">5&nbsp;&nbsp;</span>[]     A set of characters</a></span></li><li><span><a href=\"#\\d-----Returns-a-match-where-the-string-contains-digits-(numbers-from-0-9)\" data-toc-modified-id=\"\\d-----Returns-a-match-where-the-string-contains-digits-(numbers-from-0-9)-6\"><span class=\"toc-item-num\">6&nbsp;&nbsp;</span>\\d     Returns a match where the string contains digits (numbers from 0-9)</a></span></li><li><span><a href=\"#Any-character-(except-newline-character)\" data-toc-modified-id=\"Any-character-(except-newline-character)-7\"><span class=\"toc-item-num\">7&nbsp;&nbsp;</span>Any character (except newline character)</a></span></li><li><span><a href=\"#Check-if-the-string-starts-with-'something':\" data-toc-modified-id=\"Check-if-the-string-starts-with-'something':-8\"><span class=\"toc-item-num\">8&nbsp;&nbsp;</span>Check if the string starts with 'something':</a></span></li><li><span><a href=\"#Write-a-Python-program-to-find-all-five-characters-long-word-in-a-string.\" data-toc-modified-id=\"Write-a-Python-program-to-find-all-five-characters-long-word-in-a-string.-9\"><span class=\"toc-item-num\">9&nbsp;&nbsp;</span>Write a Python program to find all five characters long word in a string.</a></span></li><li><span><a href=\"#Write-a-Python-program-to-check-that-a-string-contains-only-a-certain-set-of-characters-(in-this-case-a-z,-A-Z-and-0-9).\" data-toc-modified-id=\"Write-a-Python-program-to-check-that-a-string-contains-only-a-certain-set-of-characters-(in-this-case-a-z,-A-Z-and-0-9).-10\"><span class=\"toc-item-num\">10&nbsp;&nbsp;</span>Write a Python program to check that a string contains only a certain set of characters (in this case a-z, A-Z and 0-9).</a></span></li></ul></div>"
   ]
  },
  {
   "cell_type": "markdown",
   "metadata": {},
   "source": [
    "#### Python Regular Expressions"
   ]
  },
  {
   "cell_type": "code",
   "execution_count": 4,
   "metadata": {},
   "outputs": [],
   "source": [
    "import re"
   ]
  },
  {
   "cell_type": "code",
   "execution_count": 5,
   "metadata": {},
   "outputs": [],
   "source": [
    "line = \"Cats are smarter than dogs\""
   ]
  },
  {
   "cell_type": "markdown",
   "metadata": {},
   "source": [
    "####     \\A :Returns a match if the specified characters are at the beginning of the string"
   ]
  },
  {
   "cell_type": "code",
   "execution_count": 6,
   "metadata": {},
   "outputs": [
    {
     "name": "stdout",
     "output_type": "stream",
     "text": [
      "No match\n"
     ]
    }
   ],
   "source": [
    "# check if the string starts with \"The\"\n",
    "x = re.findall(\"\\AThe\", line)\n",
    "if(x):\n",
    "    print(\"Yes, there is a match\")\n",
    "else:\n",
    "    print(\"No match\")"
   ]
  },
  {
   "cell_type": "code",
   "execution_count": 8,
   "metadata": {},
   "outputs": [
    {
     "name": "stdout",
     "output_type": "stream",
     "text": [
      "['Cat']\n",
      "Yes, there is a match\n"
     ]
    }
   ],
   "source": [
    "x = re.findall(\"\\ACat\", line)\n",
    "print(x)\n",
    "if(x):\n",
    "    print(\"Yes, there is a match\")\n",
    "else:\n",
    "    print(\"No match\")"
   ]
  },
  {
   "cell_type": "markdown",
   "metadata": {},
   "source": [
    "#### \\b : \tReturns a match where the specified characters are at the beginning or at the end of a word"
   ]
  },
  {
   "cell_type": "code",
   "execution_count": 18,
   "metadata": {},
   "outputs": [
    {
     "name": "stdout",
     "output_type": "stream",
     "text": [
      "['Ban']\n",
      "Yes, there is at least one match!\n"
     ]
    }
   ],
   "source": [
    "str = \"The rain in Bangldesh\"\n",
    "\n",
    "#Check if \"Ban\" is present at the beginning of a WORD:\n",
    "x = re.findall(r\"\\bBan\", str)\n",
    "print(x)\n",
    "if (x):\n",
    "  print(\"Yes, there is at least one match!\")\n",
    "else:\n",
    "  print(\"No match\")"
   ]
  },
  {
   "cell_type": "code",
   "execution_count": 19,
   "metadata": {},
   "outputs": [
    {
     "name": "stdout",
     "output_type": "stream",
     "text": [
      "['desh']\n",
      "Yes, there is at least one match!\n"
     ]
    }
   ],
   "source": [
    "str = \"The rain in Bangldesh\"\n",
    "\n",
    "#Check if \"desh\" is present at the end of a WORD:\n",
    "x = re.findall(r\"desh\\b\", str)\n",
    "print(x)\n",
    "if (x):\n",
    "  print(\"Yes, there is at least one match!\")\n",
    "else:\n",
    "  print(\"No match\")"
   ]
  },
  {
   "cell_type": "markdown",
   "metadata": {},
   "source": [
    "#### \\B \tReturns a match where the specified characters are present, but NOT at the beginning (or at the end) of a word"
   ]
  },
  {
   "cell_type": "code",
   "execution_count": 20,
   "metadata": {},
   "outputs": [
    {
     "name": "stdout",
     "output_type": "stream",
     "text": [
      "[]\n",
      "No match\n"
     ]
    }
   ],
   "source": [
    "str = \"The rain in Spain\"\n",
    "#Check if \"ain\" is present, but NOT at the end of a word:\n",
    "x = re.findall(r\"ain\\B\", str)\n",
    "print(x)\n",
    "if (x):\n",
    "  print(\"Yes, there is at least one match!\")\n",
    "else:\n",
    "  print(\"No match\")"
   ]
  },
  {
   "cell_type": "markdown",
   "metadata": {},
   "source": [
    "####     [] \tA set of characters"
   ]
  },
  {
   "cell_type": "code",
   "execution_count": 24,
   "metadata": {},
   "outputs": [
    {
     "name": "stdout",
     "output_type": "stream",
     "text": [
      "['a', 'd', 'a', 'a', 'b', 'i', 'i', 'k']\n"
     ]
    }
   ],
   "source": [
    "name = \"Sadman Kabir Soumik\"\n",
    "# Find all lower case characters alphabetically between \"a\" and \"m\": \n",
    "x = re.findall(\"[a-k]\", name)\n",
    "print(x)"
   ]
  },
  {
   "cell_type": "markdown",
   "metadata": {},
   "source": [
    "####    \\d \tReturns a match where the string contains digits (numbers from 0-9)"
   ]
  },
  {
   "cell_type": "code",
   "execution_count": 25,
   "metadata": {},
   "outputs": [
    {
     "name": "stdout",
     "output_type": "stream",
     "text": [
      "['5', '9']\n"
     ]
    }
   ],
   "source": [
    "string = \"That will be 59 dollars\"\n",
    "#Find all digit characters:\n",
    "x = re.findall(\"\\d\", string)\n",
    "print(x)\n"
   ]
  },
  {
   "cell_type": "markdown",
   "metadata": {},
   "source": [
    "#### Any character (except newline character)"
   ]
  },
  {
   "cell_type": "code",
   "execution_count": 31,
   "metadata": {},
   "outputs": [
    {
     "name": "stdout",
     "output_type": "stream",
     "text": [
      "['world', 'wthud']\n"
     ]
    }
   ],
   "source": [
    "\n",
    "str = \"hello world my wthud whbd\"\n",
    "#Search for a sequence that starts with \"he\", followed by two (any) characters, and an \"o\":\n",
    "x = re.findall(\"w...d\", str)\n",
    "print(x)"
   ]
  },
  {
   "cell_type": "markdown",
   "metadata": {},
   "source": [
    "#### Check if the string starts with 'something':"
   ]
  },
  {
   "cell_type": "code",
   "execution_count": 36,
   "metadata": {},
   "outputs": [
    {
     "name": "stdout",
     "output_type": "stream",
     "text": [
      "Yes, the string starts with 'Sadman'\n"
     ]
    }
   ],
   "source": [
    "str = \"Sadman Kabir Soumik\"\n",
    "#Check if the string starts with 'hello':\n",
    "x = re.findall(\"^Sadman\", str)\n",
    "if (x):\n",
    "  print(\"Yes, the string starts with 'Sadman'\")\n",
    "else:\n",
    "  print(\"No match\")\n"
   ]
  },
  {
   "cell_type": "markdown",
   "metadata": {},
   "source": [
    "####  Write a Python program to find all five characters long word in a string.\n",
    "```\n",
    "Input\n",
    "'The quick brown fox jumps over the lazy dog.'\n",
    "Output\n",
    "['quick', 'brown', 'jumps']\n",
    "```"
   ]
  },
  {
   "cell_type": "code",
   "execution_count": 1,
   "metadata": {},
   "outputs": [
    {
     "name": "stdout",
     "output_type": "stream",
     "text": [
      "['quick', 'brown', 'jumps']\n"
     ]
    }
   ],
   "source": [
    "import re\n",
    "input_str = 'The quick brown fox jumps over the lazy dog.'\n",
    "print(re.findall(r\"\\w{5}\", input_str))\n"
   ]
  },
  {
   "cell_type": "markdown",
   "metadata": {},
   "source": [
    "#### Write a Python program to check that a string contains only a certain set of characters (in this case a-z, A-Z and 0-9).\n",
    "```\n",
    "Input\n",
    "\"ABCDEFabcdef123450\"\n",
    " \"*&%@#!}{\"\n",
    " Output\n",
    "True                                                                                                          \n",
    "False\n",
    "```"
   ]
  },
  {
   "cell_type": "code",
   "execution_count": 2,
   "metadata": {},
   "outputs": [
    {
     "name": "stdout",
     "output_type": "stream",
     "text": [
      "True\n",
      "False\n"
     ]
    }
   ],
   "source": [
    "import re\n",
    "def is_allowed_specific_char(string):\n",
    "    charRe = re.compile(r'[^a-zA-Z0-9.]')\n",
    "    string = charRe.search(string)\n",
    "    return not bool(string)\n",
    "\n",
    "print(is_allowed_specific_char(\"ABCDEFabcdef123450\")) \n",
    "print(is_allowed_specific_char(\"*&%@#!}{\"))"
   ]
  },
  {
   "cell_type": "code",
   "execution_count": null,
   "metadata": {},
   "outputs": [],
   "source": []
  }
 ],
 "metadata": {
  "kernelspec": {
   "display_name": "Python 3",
   "language": "python",
   "name": "python3"
  },
  "language_info": {
   "codemirror_mode": {
    "name": "ipython",
    "version": 3
   },
   "file_extension": ".py",
   "mimetype": "text/x-python",
   "name": "python",
   "nbconvert_exporter": "python",
   "pygments_lexer": "ipython3",
   "version": "3.6.8"
  },
  "toc": {
   "base_numbering": 1.0,
   "nav_menu": {},
   "number_sections": true,
   "sideBar": true,
   "skip_h1_title": false,
   "title_cell": "Table of Contents",
   "title_sidebar": "Contents",
   "toc_cell": true,
   "toc_position": {},
   "toc_section_display": true,
   "toc_window_display": false
  }
 },
 "nbformat": 4,
 "nbformat_minor": 2
}
